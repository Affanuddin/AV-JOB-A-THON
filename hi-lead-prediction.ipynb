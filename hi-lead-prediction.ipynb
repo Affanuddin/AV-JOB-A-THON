{
 "cells": [
  {
   "cell_type": "code",
   "execution_count": 1,
   "metadata": {
    "execution": {
     "iopub.execute_input": "2021-02-28T17:23:17.185907Z",
     "iopub.status.busy": "2021-02-28T17:23:17.184920Z",
     "iopub.status.idle": "2021-02-28T17:23:18.923520Z",
     "shell.execute_reply": "2021-02-28T17:23:18.922308Z"
    },
    "papermill": {
     "duration": 1.77117,
     "end_time": "2021-02-28T17:23:18.923736",
     "exception": false,
     "start_time": "2021-02-28T17:23:17.152566",
     "status": "completed"
    },
    "tags": []
   },
   "outputs": [
    {
     "data": {
      "text/html": [
       "<style type='text/css'>\n",
       ".datatable table.frame { margin-bottom: 0; }\n",
       ".datatable table.frame thead { border-bottom: none; }\n",
       ".datatable table.frame tr.coltypes td {  color: #FFFFFF;  line-height: 6px;  padding: 0 0.5em;}\n",
       ".datatable .bool    { background: #DDDD99; }\n",
       ".datatable .object  { background: #565656; }\n",
       ".datatable .int     { background: #5D9E5D; }\n",
       ".datatable .float   { background: #4040CC; }\n",
       ".datatable .str     { background: #CC4040; }\n",
       ".datatable .row_index {  background: var(--jp-border-color3);  border-right: 1px solid var(--jp-border-color0);  color: var(--jp-ui-font-color3);  font-size: 9px;}\n",
       ".datatable .frame tr.coltypes .row_index {  background: var(--jp-border-color0);}\n",
       ".datatable th:nth-child(2) { padding-left: 12px; }\n",
       ".datatable .hellipsis {  color: var(--jp-cell-editor-border-color);}\n",
       ".datatable .vellipsis {  background: var(--jp-layout-color0);  color: var(--jp-cell-editor-border-color);}\n",
       ".datatable .na {  color: var(--jp-cell-editor-border-color);  font-size: 80%;}\n",
       ".datatable .footer { font-size: 9px; }\n",
       ".datatable .frame_dimensions {  background: var(--jp-border-color3);  border-top: 1px solid var(--jp-border-color0);  color: var(--jp-ui-font-color3);  display: inline-block;  opacity: 0.6;  padding: 1px 10px 1px 5px;}\n",
       "</style>\n"
      ],
      "text/plain": [
       "<IPython.core.display.HTML object>"
      ]
     },
     "metadata": {},
     "output_type": "display_data"
    }
   ],
   "source": [
    "# import required packages\n",
    "\n",
    "import pandas as pd\n",
    "import numpy as np\n",
    "from sklearn.metrics import mean_squared_error,r2_score\n",
    "from sklearn.model_selection import KFold, StratifiedKFold,GroupKFold\n",
    "from lightgbm import LGBMClassifier\n",
    "from sklearn.ensemble import ExtraTreesClassifier\n",
    "from sklearn.neighbors import KNeighborsRegressor,KNeighborsClassifier\n",
    "from catboost import CatBoostClassifier\n",
    "from sklearn.metrics import mean_squared_error,r2_score,roc_auc_score\n",
    "from sklearn.preprocessing import LabelEncoder\n",
    "from sklearn.model_selection import train_test_split\n",
    "import gc\n",
    "from tqdm import tqdm\n",
    "import seaborn as sns\n",
    "import matplotlib.pyplot as plt\n",
    "import warnings\n",
    "warnings.filterwarnings('ignore')\n",
    "pd.set_option('display.max_columns', 500)"
   ]
  },
  {
   "cell_type": "code",
   "execution_count": 2,
   "metadata": {
    "execution": {
     "iopub.execute_input": "2021-02-28T17:23:18.985856Z",
     "iopub.status.busy": "2021-02-28T17:23:18.985025Z",
     "iopub.status.idle": "2021-02-28T17:23:19.219901Z",
     "shell.execute_reply": "2021-02-28T17:23:19.219194Z"
    },
    "papermill": {
     "duration": 0.26803,
     "end_time": "2021-02-28T17:23:19.220051",
     "exception": false,
     "start_time": "2021-02-28T17:23:18.952021",
     "status": "completed"
    },
    "tags": []
   },
   "outputs": [],
   "source": [
    "# read train and test data\n",
    "\n",
    "train = pd.read_csv(\"/kaggle/input/dataset/train_Df64byy.csv\")\n",
    "test = pd.read_csv(\"/kaggle/input/dataset/test_YCcRUnU.csv\")"
   ]
  },
  {
   "cell_type": "code",
   "execution_count": 3,
   "metadata": {
    "execution": {
     "iopub.execute_input": "2021-02-28T17:23:19.285520Z",
     "iopub.status.busy": "2021-02-28T17:23:19.284741Z",
     "iopub.status.idle": "2021-02-28T17:23:19.312418Z",
     "shell.execute_reply": "2021-02-28T17:23:19.311891Z"
    },
    "papermill": {
     "duration": 0.065473,
     "end_time": "2021-02-28T17:23:19.312575",
     "exception": false,
     "start_time": "2021-02-28T17:23:19.247102",
     "status": "completed"
    },
    "tags": []
   },
   "outputs": [
    {
     "data": {
      "text/html": [
       "<div>\n",
       "<style scoped>\n",
       "    .dataframe tbody tr th:only-of-type {\n",
       "        vertical-align: middle;\n",
       "    }\n",
       "\n",
       "    .dataframe tbody tr th {\n",
       "        vertical-align: top;\n",
       "    }\n",
       "\n",
       "    .dataframe thead th {\n",
       "        text-align: right;\n",
       "    }\n",
       "</style>\n",
       "<table border=\"1\" class=\"dataframe\">\n",
       "  <thead>\n",
       "    <tr style=\"text-align: right;\">\n",
       "      <th></th>\n",
       "      <th>ID</th>\n",
       "      <th>City_Code</th>\n",
       "      <th>Region_Code</th>\n",
       "      <th>Accomodation_Type</th>\n",
       "      <th>Reco_Insurance_Type</th>\n",
       "      <th>Upper_Age</th>\n",
       "      <th>Lower_Age</th>\n",
       "      <th>Is_Spouse</th>\n",
       "      <th>Health Indicator</th>\n",
       "      <th>Holding_Policy_Duration</th>\n",
       "      <th>Holding_Policy_Type</th>\n",
       "      <th>Reco_Policy_Cat</th>\n",
       "      <th>Reco_Policy_Premium</th>\n",
       "      <th>Response</th>\n",
       "    </tr>\n",
       "  </thead>\n",
       "  <tbody>\n",
       "    <tr>\n",
       "      <th>0</th>\n",
       "      <td>1</td>\n",
       "      <td>C3</td>\n",
       "      <td>3213</td>\n",
       "      <td>Rented</td>\n",
       "      <td>Individual</td>\n",
       "      <td>36</td>\n",
       "      <td>36</td>\n",
       "      <td>No</td>\n",
       "      <td>X1</td>\n",
       "      <td>14+</td>\n",
       "      <td>3.0</td>\n",
       "      <td>22</td>\n",
       "      <td>11628.0</td>\n",
       "      <td>0</td>\n",
       "    </tr>\n",
       "    <tr>\n",
       "      <th>1</th>\n",
       "      <td>2</td>\n",
       "      <td>C5</td>\n",
       "      <td>1117</td>\n",
       "      <td>Owned</td>\n",
       "      <td>Joint</td>\n",
       "      <td>75</td>\n",
       "      <td>22</td>\n",
       "      <td>No</td>\n",
       "      <td>X2</td>\n",
       "      <td>NaN</td>\n",
       "      <td>NaN</td>\n",
       "      <td>22</td>\n",
       "      <td>30510.0</td>\n",
       "      <td>0</td>\n",
       "    </tr>\n",
       "    <tr>\n",
       "      <th>2</th>\n",
       "      <td>3</td>\n",
       "      <td>C5</td>\n",
       "      <td>3732</td>\n",
       "      <td>Owned</td>\n",
       "      <td>Individual</td>\n",
       "      <td>32</td>\n",
       "      <td>32</td>\n",
       "      <td>No</td>\n",
       "      <td>NaN</td>\n",
       "      <td>1</td>\n",
       "      <td>1.0</td>\n",
       "      <td>19</td>\n",
       "      <td>7450.0</td>\n",
       "      <td>1</td>\n",
       "    </tr>\n",
       "    <tr>\n",
       "      <th>3</th>\n",
       "      <td>4</td>\n",
       "      <td>C24</td>\n",
       "      <td>4378</td>\n",
       "      <td>Owned</td>\n",
       "      <td>Joint</td>\n",
       "      <td>52</td>\n",
       "      <td>48</td>\n",
       "      <td>No</td>\n",
       "      <td>X1</td>\n",
       "      <td>14+</td>\n",
       "      <td>3.0</td>\n",
       "      <td>19</td>\n",
       "      <td>17780.0</td>\n",
       "      <td>0</td>\n",
       "    </tr>\n",
       "    <tr>\n",
       "      <th>4</th>\n",
       "      <td>5</td>\n",
       "      <td>C8</td>\n",
       "      <td>2190</td>\n",
       "      <td>Rented</td>\n",
       "      <td>Individual</td>\n",
       "      <td>44</td>\n",
       "      <td>44</td>\n",
       "      <td>No</td>\n",
       "      <td>X2</td>\n",
       "      <td>3</td>\n",
       "      <td>1.0</td>\n",
       "      <td>16</td>\n",
       "      <td>10404.0</td>\n",
       "      <td>0</td>\n",
       "    </tr>\n",
       "  </tbody>\n",
       "</table>\n",
       "</div>"
      ],
      "text/plain": [
       "   ID City_Code  Region_Code Accomodation_Type Reco_Insurance_Type  Upper_Age  \\\n",
       "0   1        C3         3213            Rented          Individual         36   \n",
       "1   2        C5         1117             Owned               Joint         75   \n",
       "2   3        C5         3732             Owned          Individual         32   \n",
       "3   4       C24         4378             Owned               Joint         52   \n",
       "4   5        C8         2190            Rented          Individual         44   \n",
       "\n",
       "   Lower_Age Is_Spouse Health Indicator Holding_Policy_Duration  \\\n",
       "0         36        No               X1                     14+   \n",
       "1         22        No               X2                     NaN   \n",
       "2         32        No              NaN                       1   \n",
       "3         48        No               X1                     14+   \n",
       "4         44        No               X2                       3   \n",
       "\n",
       "   Holding_Policy_Type  Reco_Policy_Cat  Reco_Policy_Premium  Response  \n",
       "0                  3.0               22              11628.0         0  \n",
       "1                  NaN               22              30510.0         0  \n",
       "2                  1.0               19               7450.0         1  \n",
       "3                  3.0               19              17780.0         0  \n",
       "4                  1.0               16              10404.0         0  "
      ]
     },
     "execution_count": 3,
     "metadata": {},
     "output_type": "execute_result"
    }
   ],
   "source": [
    "# Check how train data looks...\n",
    "train.head()"
   ]
  },
  {
   "cell_type": "code",
   "execution_count": 4,
   "metadata": {
    "execution": {
     "iopub.execute_input": "2021-02-28T17:23:19.383097Z",
     "iopub.status.busy": "2021-02-28T17:23:19.378763Z",
     "iopub.status.idle": "2021-02-28T17:23:22.209287Z",
     "shell.execute_reply": "2021-02-28T17:23:22.209797Z"
    },
    "papermill": {
     "duration": 2.868302,
     "end_time": "2021-02-28T17:23:22.210015",
     "exception": false,
     "start_time": "2021-02-28T17:23:19.341713",
     "status": "completed"
    },
    "tags": []
   },
   "outputs": [
    {
     "name": "stdout",
     "output_type": "stream",
     "text": [
      "Region_Code 5232\n",
      "Region_Code 5670\n",
      "Region_Code 5764\n",
      "Region_Code 5528\n",
      "Region_Code 5207\n",
      "Region_Code 4802\n",
      "Region_Code 5339\n",
      "Region_Code 5463\n",
      "Region_Code 5716\n",
      "Region_Code 5544\n",
      "Region_Code 5788\n",
      "Region_Code 5915\n",
      "Region_Code 5917\n",
      "Region_Code 5442\n",
      "Region_Code 5920\n",
      "Region_Code 4699\n",
      "Region_Code 5404\n",
      "Region_Code 5453\n",
      "Region_Code 5926\n",
      "Region_Code 5497\n",
      "Region_Code 5573\n",
      "Region_Code 5711\n",
      "Region_Code 5018\n",
      "Region_Code 5728\n",
      "Region_Code 6117\n",
      "Region_Code 5822\n",
      "Region_Code 5727\n",
      "Region_Code 5515\n",
      "Region_Code 6046\n",
      "Region_Code 6126\n",
      "Region_Code 5642\n",
      "Region_Code 6047\n",
      "Region_Code 5773\n",
      "Region_Code 5841\n",
      "Region_Code 6072\n",
      "Region_Code 5851\n",
      "Region_Code 4811\n",
      "Region_Code 6056\n",
      "Region_Code 5211\n",
      "Region_Code 4863\n",
      "Region_Code 6068\n",
      "Region_Code 5141\n",
      "Region_Code 5684\n",
      "Region_Code 6065\n",
      "Region_Code 5595\n",
      "Region_Code 5465\n",
      "Region_Code 6184\n",
      "Region_Code 5414\n",
      "Region_Code 5867\n",
      "Region_Code 5730\n",
      "Region_Code 5695\n",
      "Region_Code 5948\n",
      "Region_Code 5872\n",
      "Region_Code 6180\n",
      "Region_Code 6040\n",
      "Region_Code 6039\n",
      "Region_Code 5702\n",
      "Region_Code 5747\n",
      "Region_Code 6038\n",
      "Region_Code 6021\n",
      "Region_Code 5740\n",
      "Region_Code 5305\n",
      "Region_Code 6101\n",
      "Region_Code 5377\n",
      "Region_Code 5997\n",
      "Region_Code 5830\n",
      "Region_Code 5350\n",
      "Region_Code 6011\n",
      "Region_Code 5846\n",
      "Region_Code 5780\n",
      "Region_Code 5664\n",
      "Region_Code 5490\n",
      "Region_Code 4912\n",
      "Region_Code 5887\n",
      "Region_Code 5676\n",
      "Region_Code 5653\n",
      "Region_Code 5759\n",
      "Region_Code 5971\n",
      "Region_Code 5511\n",
      "Region_Code 5338\n",
      "Region_Code 6069\n",
      "Region_Code 5626\n",
      "Region_Code 5185\n",
      "Region_Code 5725\n",
      "Region_Code 5939\n",
      "Region_Code 5804\n",
      "Region_Code 5882\n",
      "Region_Code 5590\n",
      "Region_Code 4977\n",
      "Region_Code 6091\n",
      "Region_Code 4782\n",
      "Region_Code 6043\n",
      "Region_Code 5287\n",
      "Region_Code 5978\n",
      "Region_Code 5771\n",
      "Region_Code 6062\n",
      "Region_Code 5707\n",
      "Region_Code 5819\n",
      "Region_Code 5741\n",
      "Region_Code 5643\n",
      "Region_Code 6094\n",
      "Region_Code 5928\n",
      "Region_Code 5956\n",
      "Region_Code 5273\n",
      "Region_Code 5005\n",
      "Region_Code 5910\n",
      "Region_Code 5498\n",
      "Region_Code 5048\n",
      "Region_Code 5283\n",
      "Region_Code 5986\n",
      "Region_Code 6084\n",
      "Region_Code 5481\n",
      "Region_Code 5988\n",
      "Region_Code 5853\n",
      "Region_Code 5894\n",
      "Region_Code 5943\n",
      "Region_Code 5615\n",
      "Region_Code 6081\n",
      "Region_Code 5832\n",
      "Region_Code 5781\n",
      "Region_Code 6083\n",
      "Region_Code 5320\n",
      "Region_Code 6127\n",
      "Region_Code 5982\n",
      "Region_Code 6156\n",
      "Region_Code 6141\n",
      "Region_Code 6078\n",
      "Region_Code 6167\n",
      "Region_Code 5913\n",
      "Region_Code 5542\n",
      "Region_Code 5214\n",
      "Region_Code 6014\n",
      "Region_Code 5848\n",
      "Region_Code 5359\n",
      "Region_Code 5562\n",
      "Region_Code 5936\n",
      "Region_Code 5301\n",
      "Region_Code 6157\n",
      "Region_Code 5940\n",
      "Region_Code 5993\n",
      "Region_Code 5669\n",
      "Region_Code 5991\n",
      "Region_Code 5904\n",
      "Region_Code 5763\n",
      "Region_Code 5298\n",
      "Region_Code 5825\n",
      "Region_Code 5623\n",
      "Region_Code 5357\n",
      "Region_Code 5865\n",
      "Region_Code 6022\n",
      "Region_Code 5861\n",
      "Region_Code 5518\n",
      "Region_Code 5706\n",
      "Region_Code 5534\n",
      "Region_Code 5930\n",
      "Region_Code 5972\n",
      "Region_Code 5205\n",
      "Region_Code 6104\n",
      "Region_Code 5658\n",
      "Region_Code 5938\n",
      "Region_Code 5651\n",
      "Region_Code 5685\n",
      "Region_Code 6139\n",
      "Region_Code 5934\n",
      "Region_Code 5521\n",
      "Region_Code 5616\n",
      "Region_Code 6170\n",
      "Region_Code 6111\n",
      "Region_Code 6037\n",
      "Region_Code 5808\n",
      "Region_Code 5647\n",
      "Region_Code 5815\n",
      "Region_Code 5659\n",
      "Region_Code 5395\n",
      "Region_Code 5613\n",
      "Region_Code 5790\n",
      "Region_Code 6185\n",
      "Region_Code 6050\n",
      "Region_Code 5631\n",
      "Region_Code 5743\n",
      "Region_Code 5989\n",
      "Region_Code 5385\n",
      "Region_Code 5646\n",
      "Region_Code 5884\n",
      "Region_Code 5925\n",
      "Region_Code 6131\n",
      "Region_Code 5833\n",
      "Region_Code 6025\n",
      "Region_Code 5405\n",
      "Region_Code 6089\n",
      "Region_Code 5291\n",
      "Region_Code 5627\n",
      "Region_Code 5672\n",
      "Region_Code 5675\n",
      "Region_Code 5550\n",
      "Region_Code 5739\n",
      "Region_Code 5802\n",
      "Region_Code 5104\n",
      "Region_Code 6048\n",
      "Region_Code 5760\n",
      "Region_Code 5683\n",
      "Region_Code 6098\n",
      "Region_Code 5995\n",
      "Region_Code 5729\n",
      "Region_Code 5444\n",
      "Region_Code 5979\n",
      "Region_Code 5805\n",
      "Region_Code 6075\n",
      "Region_Code 6045\n",
      "Region_Code 5257\n",
      "Region_Code 5896\n",
      "Region_Code 5836\n",
      "Region_Code 5531\n",
      "Region_Code 5419\n",
      "Region_Code 5813\n",
      "Region_Code 5666\n",
      "Region_Code 6144\n",
      "Region_Code 5758\n",
      "Region_Code 6171\n",
      "Region_Code 5783\n",
      "Region_Code 5961\n",
      "Region_Code 5902\n",
      "Health Indicator nan\n",
      "Holding_Policy_Duration 6.0\n",
      "Holding_Policy_Duration 3.0\n",
      "Holding_Policy_Duration 2.0\n",
      "Holding_Policy_Duration nan\n",
      "Holding_Policy_Duration 5.0\n",
      "Holding_Policy_Duration 1.0\n",
      "Holding_Policy_Duration 4.0\n",
      "Holding_Policy_Duration 12.0\n",
      "Holding_Policy_Duration 11.0\n",
      "Holding_Policy_Duration 7.0\n",
      "Holding_Policy_Duration 9.0\n",
      "Holding_Policy_Duration 13.0\n",
      "Holding_Policy_Duration 8.0\n",
      "Holding_Policy_Duration 14.0\n",
      "Holding_Policy_Duration 10.0\n",
      "Holding_Policy_Type nan\n"
     ]
    }
   ],
   "source": [
    "# As most of the features are categorical, check if test data has all categorical values same as train data.\n",
    "# If any column has new values then we should be careful using that feature in training directly..\n",
    "\n",
    "count=0\n",
    "for col in train.columns:\n",
    "    if col not in ['ID','Reco_Policy_Premium','Response']:\n",
    "        for val in test[col].unique():\n",
    "            if val not in train[col].unique():\n",
    "                print(col,val)\n",
    "                count+=1"
   ]
  },
  {
   "cell_type": "code",
   "execution_count": 5,
   "metadata": {
    "execution": {
     "iopub.execute_input": "2021-02-28T17:23:22.279958Z",
     "iopub.status.busy": "2021-02-28T17:23:22.279278Z",
     "iopub.status.idle": "2021-02-28T17:23:22.286287Z",
     "shell.execute_reply": "2021-02-28T17:23:22.285604Z"
    },
    "papermill": {
     "duration": 0.044199,
     "end_time": "2021-02-28T17:23:22.286441",
     "exception": false,
     "start_time": "2021-02-28T17:23:22.242242",
     "status": "completed"
    },
    "tags": []
   },
   "outputs": [
    {
     "data": {
      "text/plain": [
       "(5316, 4694, 239)"
      ]
     },
     "execution_count": 5,
     "metadata": {},
     "output_type": "execute_result"
    }
   ],
   "source": [
    "train['Region_Code'].nunique(),test['Region_Code'].nunique(),count"
   ]
  },
  {
   "cell_type": "markdown",
   "metadata": {
    "papermill": {
     "duration": 0.03234,
     "end_time": "2021-02-28T17:23:22.351538",
     "exception": false,
     "start_time": "2021-02-28T17:23:22.319198",
     "status": "completed"
    },
    "tags": []
   },
   "source": [
    "It turns out Region code is the feature which has differet values in train and test...Total 239 values out of 5316 values in train are different...\n",
    "\n",
    "We will not use this feature directly but will create features using it."
   ]
  },
  {
   "cell_type": "code",
   "execution_count": 6,
   "metadata": {
    "execution": {
     "iopub.execute_input": "2021-02-28T17:23:22.425640Z",
     "iopub.status.busy": "2021-02-28T17:23:22.424219Z",
     "iopub.status.idle": "2021-02-28T17:23:22.469423Z",
     "shell.execute_reply": "2021-02-28T17:23:22.468889Z"
    },
    "papermill": {
     "duration": 0.084921,
     "end_time": "2021-02-28T17:23:22.469561",
     "exception": false,
     "start_time": "2021-02-28T17:23:22.384640",
     "status": "completed"
    },
    "tags": []
   },
   "outputs": [
    {
     "data": {
      "text/html": [
       "<div>\n",
       "<style scoped>\n",
       "    .dataframe tbody tr th:only-of-type {\n",
       "        vertical-align: middle;\n",
       "    }\n",
       "\n",
       "    .dataframe tbody tr th {\n",
       "        vertical-align: top;\n",
       "    }\n",
       "\n",
       "    .dataframe thead th {\n",
       "        text-align: right;\n",
       "    }\n",
       "</style>\n",
       "<table border=\"1\" class=\"dataframe\">\n",
       "  <thead>\n",
       "    <tr style=\"text-align: right;\">\n",
       "      <th></th>\n",
       "      <th>ID</th>\n",
       "      <th>Region_Code</th>\n",
       "      <th>Upper_Age</th>\n",
       "      <th>Lower_Age</th>\n",
       "      <th>Holding_Policy_Type</th>\n",
       "      <th>Reco_Policy_Cat</th>\n",
       "      <th>Reco_Policy_Premium</th>\n",
       "      <th>Response</th>\n",
       "    </tr>\n",
       "  </thead>\n",
       "  <tbody>\n",
       "    <tr>\n",
       "      <th>count</th>\n",
       "      <td>50882.000000</td>\n",
       "      <td>50882.000000</td>\n",
       "      <td>50882.000000</td>\n",
       "      <td>50882.000000</td>\n",
       "      <td>30631.000000</td>\n",
       "      <td>50882.000000</td>\n",
       "      <td>50882.000000</td>\n",
       "      <td>50882.000000</td>\n",
       "    </tr>\n",
       "    <tr>\n",
       "      <th>mean</th>\n",
       "      <td>25441.500000</td>\n",
       "      <td>1732.788707</td>\n",
       "      <td>44.856275</td>\n",
       "      <td>42.738866</td>\n",
       "      <td>2.439228</td>\n",
       "      <td>15.115188</td>\n",
       "      <td>14183.950069</td>\n",
       "      <td>0.239947</td>\n",
       "    </tr>\n",
       "    <tr>\n",
       "      <th>std</th>\n",
       "      <td>14688.512535</td>\n",
       "      <td>1424.081652</td>\n",
       "      <td>17.310271</td>\n",
       "      <td>17.319375</td>\n",
       "      <td>1.025923</td>\n",
       "      <td>6.340663</td>\n",
       "      <td>6590.074873</td>\n",
       "      <td>0.427055</td>\n",
       "    </tr>\n",
       "    <tr>\n",
       "      <th>min</th>\n",
       "      <td>1.000000</td>\n",
       "      <td>1.000000</td>\n",
       "      <td>18.000000</td>\n",
       "      <td>16.000000</td>\n",
       "      <td>1.000000</td>\n",
       "      <td>1.000000</td>\n",
       "      <td>2280.000000</td>\n",
       "      <td>0.000000</td>\n",
       "    </tr>\n",
       "    <tr>\n",
       "      <th>25%</th>\n",
       "      <td>12721.250000</td>\n",
       "      <td>523.000000</td>\n",
       "      <td>28.000000</td>\n",
       "      <td>27.000000</td>\n",
       "      <td>1.000000</td>\n",
       "      <td>12.000000</td>\n",
       "      <td>9248.000000</td>\n",
       "      <td>0.000000</td>\n",
       "    </tr>\n",
       "    <tr>\n",
       "      <th>50%</th>\n",
       "      <td>25441.500000</td>\n",
       "      <td>1391.000000</td>\n",
       "      <td>44.000000</td>\n",
       "      <td>40.000000</td>\n",
       "      <td>3.000000</td>\n",
       "      <td>17.000000</td>\n",
       "      <td>13178.000000</td>\n",
       "      <td>0.000000</td>\n",
       "    </tr>\n",
       "    <tr>\n",
       "      <th>75%</th>\n",
       "      <td>38161.750000</td>\n",
       "      <td>2667.000000</td>\n",
       "      <td>59.000000</td>\n",
       "      <td>57.000000</td>\n",
       "      <td>3.000000</td>\n",
       "      <td>20.000000</td>\n",
       "      <td>18096.000000</td>\n",
       "      <td>0.000000</td>\n",
       "    </tr>\n",
       "    <tr>\n",
       "      <th>max</th>\n",
       "      <td>50882.000000</td>\n",
       "      <td>6194.000000</td>\n",
       "      <td>75.000000</td>\n",
       "      <td>75.000000</td>\n",
       "      <td>4.000000</td>\n",
       "      <td>22.000000</td>\n",
       "      <td>43350.400000</td>\n",
       "      <td>1.000000</td>\n",
       "    </tr>\n",
       "  </tbody>\n",
       "</table>\n",
       "</div>"
      ],
      "text/plain": [
       "                 ID   Region_Code     Upper_Age     Lower_Age  \\\n",
       "count  50882.000000  50882.000000  50882.000000  50882.000000   \n",
       "mean   25441.500000   1732.788707     44.856275     42.738866   \n",
       "std    14688.512535   1424.081652     17.310271     17.319375   \n",
       "min        1.000000      1.000000     18.000000     16.000000   \n",
       "25%    12721.250000    523.000000     28.000000     27.000000   \n",
       "50%    25441.500000   1391.000000     44.000000     40.000000   \n",
       "75%    38161.750000   2667.000000     59.000000     57.000000   \n",
       "max    50882.000000   6194.000000     75.000000     75.000000   \n",
       "\n",
       "       Holding_Policy_Type  Reco_Policy_Cat  Reco_Policy_Premium      Response  \n",
       "count         30631.000000     50882.000000         50882.000000  50882.000000  \n",
       "mean              2.439228        15.115188         14183.950069      0.239947  \n",
       "std               1.025923         6.340663          6590.074873      0.427055  \n",
       "min               1.000000         1.000000          2280.000000      0.000000  \n",
       "25%               1.000000        12.000000          9248.000000      0.000000  \n",
       "50%               3.000000        17.000000         13178.000000      0.000000  \n",
       "75%               3.000000        20.000000         18096.000000      0.000000  \n",
       "max               4.000000        22.000000         43350.400000      1.000000  "
      ]
     },
     "execution_count": 6,
     "metadata": {},
     "output_type": "execute_result"
    }
   ],
   "source": [
    "# Let's check if data is uniformly distributed between train and test. Also,if there are any outliers or not.\n",
    "train.describe()"
   ]
  },
  {
   "cell_type": "code",
   "execution_count": 7,
   "metadata": {
    "execution": {
     "iopub.execute_input": "2021-02-28T17:23:22.544588Z",
     "iopub.status.busy": "2021-02-28T17:23:22.543606Z",
     "iopub.status.idle": "2021-02-28T17:23:22.575614Z",
     "shell.execute_reply": "2021-02-28T17:23:22.575003Z"
    },
    "papermill": {
     "duration": 0.072297,
     "end_time": "2021-02-28T17:23:22.575767",
     "exception": false,
     "start_time": "2021-02-28T17:23:22.503470",
     "status": "completed"
    },
    "tags": []
   },
   "outputs": [
    {
     "data": {
      "text/html": [
       "<div>\n",
       "<style scoped>\n",
       "    .dataframe tbody tr th:only-of-type {\n",
       "        vertical-align: middle;\n",
       "    }\n",
       "\n",
       "    .dataframe tbody tr th {\n",
       "        vertical-align: top;\n",
       "    }\n",
       "\n",
       "    .dataframe thead th {\n",
       "        text-align: right;\n",
       "    }\n",
       "</style>\n",
       "<table border=\"1\" class=\"dataframe\">\n",
       "  <thead>\n",
       "    <tr style=\"text-align: right;\">\n",
       "      <th></th>\n",
       "      <th>ID</th>\n",
       "      <th>Region_Code</th>\n",
       "      <th>Upper_Age</th>\n",
       "      <th>Lower_Age</th>\n",
       "      <th>Holding_Policy_Type</th>\n",
       "      <th>Reco_Policy_Cat</th>\n",
       "      <th>Reco_Policy_Premium</th>\n",
       "    </tr>\n",
       "  </thead>\n",
       "  <tbody>\n",
       "    <tr>\n",
       "      <th>count</th>\n",
       "      <td>21805.000000</td>\n",
       "      <td>21805.000000</td>\n",
       "      <td>21805.000000</td>\n",
       "      <td>21805.000000</td>\n",
       "      <td>13202.000000</td>\n",
       "      <td>21805.000000</td>\n",
       "      <td>21805.000000</td>\n",
       "    </tr>\n",
       "    <tr>\n",
       "      <th>mean</th>\n",
       "      <td>61785.000000</td>\n",
       "      <td>1748.737491</td>\n",
       "      <td>44.877734</td>\n",
       "      <td>42.748085</td>\n",
       "      <td>2.440085</td>\n",
       "      <td>15.138363</td>\n",
       "      <td>14220.306581</td>\n",
       "    </tr>\n",
       "    <tr>\n",
       "      <th>std</th>\n",
       "      <td>6294.705646</td>\n",
       "      <td>1438.358949</td>\n",
       "      <td>17.254898</td>\n",
       "      <td>17.269112</td>\n",
       "      <td>1.037627</td>\n",
       "      <td>6.302805</td>\n",
       "      <td>6497.996164</td>\n",
       "    </tr>\n",
       "    <tr>\n",
       "      <th>min</th>\n",
       "      <td>50883.000000</td>\n",
       "      <td>1.000000</td>\n",
       "      <td>18.000000</td>\n",
       "      <td>16.000000</td>\n",
       "      <td>1.000000</td>\n",
       "      <td>1.000000</td>\n",
       "      <td>2152.000000</td>\n",
       "    </tr>\n",
       "    <tr>\n",
       "      <th>25%</th>\n",
       "      <td>56334.000000</td>\n",
       "      <td>535.000000</td>\n",
       "      <td>28.000000</td>\n",
       "      <td>27.000000</td>\n",
       "      <td>1.000000</td>\n",
       "      <td>12.000000</td>\n",
       "      <td>9285.000000</td>\n",
       "    </tr>\n",
       "    <tr>\n",
       "      <th>50%</th>\n",
       "      <td>61785.000000</td>\n",
       "      <td>1392.000000</td>\n",
       "      <td>44.000000</td>\n",
       "      <td>41.000000</td>\n",
       "      <td>3.000000</td>\n",
       "      <td>17.000000</td>\n",
       "      <td>13244.000000</td>\n",
       "    </tr>\n",
       "    <tr>\n",
       "      <th>75%</th>\n",
       "      <td>67236.000000</td>\n",
       "      <td>2712.000000</td>\n",
       "      <td>59.000000</td>\n",
       "      <td>57.000000</td>\n",
       "      <td>3.000000</td>\n",
       "      <td>20.000000</td>\n",
       "      <td>18201.600000</td>\n",
       "    </tr>\n",
       "    <tr>\n",
       "      <th>max</th>\n",
       "      <td>72687.000000</td>\n",
       "      <td>6185.000000</td>\n",
       "      <td>75.000000</td>\n",
       "      <td>75.000000</td>\n",
       "      <td>4.000000</td>\n",
       "      <td>22.000000</td>\n",
       "      <td>43776.000000</td>\n",
       "    </tr>\n",
       "  </tbody>\n",
       "</table>\n",
       "</div>"
      ],
      "text/plain": [
       "                 ID   Region_Code     Upper_Age     Lower_Age  \\\n",
       "count  21805.000000  21805.000000  21805.000000  21805.000000   \n",
       "mean   61785.000000   1748.737491     44.877734     42.748085   \n",
       "std     6294.705646   1438.358949     17.254898     17.269112   \n",
       "min    50883.000000      1.000000     18.000000     16.000000   \n",
       "25%    56334.000000    535.000000     28.000000     27.000000   \n",
       "50%    61785.000000   1392.000000     44.000000     41.000000   \n",
       "75%    67236.000000   2712.000000     59.000000     57.000000   \n",
       "max    72687.000000   6185.000000     75.000000     75.000000   \n",
       "\n",
       "       Holding_Policy_Type  Reco_Policy_Cat  Reco_Policy_Premium  \n",
       "count         13202.000000     21805.000000         21805.000000  \n",
       "mean              2.440085        15.138363         14220.306581  \n",
       "std               1.037627         6.302805          6497.996164  \n",
       "min               1.000000         1.000000          2152.000000  \n",
       "25%               1.000000        12.000000          9285.000000  \n",
       "50%               3.000000        17.000000         13244.000000  \n",
       "75%               3.000000        20.000000         18201.600000  \n",
       "max               4.000000        22.000000         43776.000000  "
      ]
     },
     "execution_count": 7,
     "metadata": {},
     "output_type": "execute_result"
    }
   ],
   "source": [
    "test.describe()"
   ]
  },
  {
   "cell_type": "code",
   "execution_count": 8,
   "metadata": {
    "execution": {
     "iopub.execute_input": "2021-02-28T17:23:22.648519Z",
     "iopub.status.busy": "2021-02-28T17:23:22.647683Z",
     "iopub.status.idle": "2021-02-28T17:23:22.873583Z",
     "shell.execute_reply": "2021-02-28T17:23:22.874056Z"
    },
    "papermill": {
     "duration": 0.264938,
     "end_time": "2021-02-28T17:23:22.874243",
     "exception": false,
     "start_time": "2021-02-28T17:23:22.609305",
     "status": "completed"
    },
    "tags": []
   },
   "outputs": [
    {
     "data": {
      "text/plain": [
       "<AxesSubplot:>"
      ]
     },
     "execution_count": 8,
     "metadata": {},
     "output_type": "execute_result"
    },
    {
     "data": {
      "image/png": "[encoded data removed]",
      "text/plain": [
       "<Figure size 432x288 with 1 Axes>"
      ]
     },
     "metadata": {
      "needs_background": "light"
     },
     "output_type": "display_data"
    }
   ],
   "source": [
    "train.boxplot(column=['Reco_Policy_Premium'])"
   ]
  },
  {
   "cell_type": "code",
   "execution_count": 9,
   "metadata": {
    "execution": {
     "iopub.execute_input": "2021-02-28T17:23:22.971504Z",
     "iopub.status.busy": "2021-02-28T17:23:22.967699Z",
     "iopub.status.idle": "2021-02-28T17:23:23.091089Z",
     "shell.execute_reply": "2021-02-28T17:23:23.090537Z"
    },
    "papermill": {
     "duration": 0.181871,
     "end_time": "2021-02-28T17:23:23.091228",
     "exception": false,
     "start_time": "2021-02-28T17:23:22.909357",
     "status": "completed"
    },
    "tags": []
   },
   "outputs": [
    {
     "data": {
      "text/plain": [
       "<AxesSubplot:>"
      ]
     },
     "execution_count": 9,
     "metadata": {},
     "output_type": "execute_result"
    },
    {
     "data": {
      "image/png": "[encoded data removed]",
      "text/plain": [
       "<Figure size 432x288 with 1 Axes>"
      ]
     },
     "metadata": {
      "needs_background": "light"
     },
     "output_type": "display_data"
    }
   ],
   "source": [
    "test.boxplot(column=['Reco_Policy_Premium'])"
   ]
  },
  {
   "cell_type": "markdown",
   "metadata": {
    "papermill": {
     "duration": 0.035814,
     "end_time": "2021-02-28T17:23:23.164180",
     "exception": false,
     "start_time": "2021-02-28T17:23:23.128366",
     "status": "completed"
    },
    "tags": []
   },
   "source": [
    "All the numerical features has mean and std almost similar so that is uniformly distributes. It's good :)\n",
    "Also, we can not see any outlier values(min and max values looks reasonable) in the data so no need to do any outlier handling.\n",
    "\n",
    "Boxplot suggests some values as outlier but the behavior is same in train and test so let's not do anything. Tree based models will take care of it :)"
   ]
  },
  {
   "cell_type": "code",
   "execution_count": 10,
   "metadata": {
    "execution": {
     "iopub.execute_input": "2021-02-28T17:23:23.244409Z",
     "iopub.status.busy": "2021-02-28T17:23:23.243195Z",
     "iopub.status.idle": "2021-02-28T17:23:23.280526Z",
     "shell.execute_reply": "2021-02-28T17:23:23.281020Z"
    },
    "papermill": {
     "duration": 0.081133,
     "end_time": "2021-02-28T17:23:23.281205",
     "exception": false,
     "start_time": "2021-02-28T17:23:23.200072",
     "status": "completed"
    },
    "tags": []
   },
   "outputs": [],
   "source": [
    "# join both train and test data for preprocessing..\n",
    "train['train'] = 1\n",
    "test['train'] = 0\n",
    "\n",
    "df = pd.concat([train,test],axis=0).reset_index(drop=True)"
   ]
  },
  {
   "cell_type": "markdown",
   "metadata": {
    "papermill": {
     "duration": 0.035894,
     "end_time": "2021-02-28T17:23:23.353280",
     "exception": false,
     "start_time": "2021-02-28T17:23:23.317386",
     "status": "completed"
    },
    "tags": []
   },
   "source": [
    "# **Let's do some Preprocessing**"
   ]
  },
  {
   "cell_type": "code",
   "execution_count": 11,
   "metadata": {
    "execution": {
     "iopub.execute_input": "2021-02-28T17:23:23.474494Z",
     "iopub.status.busy": "2021-02-28T17:23:23.438957Z",
     "iopub.status.idle": "2021-02-28T17:23:23.492939Z",
     "shell.execute_reply": "2021-02-28T17:23:23.493409Z"
    },
    "papermill": {
     "duration": 0.104077,
     "end_time": "2021-02-28T17:23:23.493590",
     "exception": false,
     "start_time": "2021-02-28T17:23:23.389513",
     "status": "completed"
    },
    "tags": []
   },
   "outputs": [
    {
     "name": "stdout",
     "output_type": "stream",
     "text": [
      "<class 'pandas.core.frame.DataFrame'>\n",
      "RangeIndex: 72687 entries, 0 to 72686\n",
      "Data columns (total 15 columns):\n",
      " #   Column                   Non-Null Count  Dtype  \n",
      "---  ------                   --------------  -----  \n",
      " 0   ID                       72687 non-null  int64  \n",
      " 1   City_Code                72687 non-null  object \n",
      " 2   Region_Code              72687 non-null  int64  \n",
      " 3   Accomodation_Type        72687 non-null  object \n",
      " 4   Reco_Insurance_Type      72687 non-null  object \n",
      " 5   Upper_Age                72687 non-null  int64  \n",
      " 6   Lower_Age                72687 non-null  int64  \n",
      " 7   Is_Spouse                72687 non-null  object \n",
      " 8   Health Indicator         55969 non-null  object \n",
      " 9   Holding_Policy_Duration  43833 non-null  object \n",
      " 10  Holding_Policy_Type      43833 non-null  float64\n",
      " 11  Reco_Policy_Cat          72687 non-null  int64  \n",
      " 12  Reco_Policy_Premium      72687 non-null  float64\n",
      " 13  Response                 50882 non-null  float64\n",
      " 14  train                    72687 non-null  int64  \n",
      "dtypes: float64(3), int64(6), object(6)\n",
      "memory usage: 8.3+ MB\n"
     ]
    }
   ],
   "source": [
    "# check what is the data type of each feature..\n",
    "df.info()"
   ]
  },
  {
   "cell_type": "code",
   "execution_count": 12,
   "metadata": {
    "execution": {
     "iopub.execute_input": "2021-02-28T17:23:23.581609Z",
     "iopub.status.busy": "2021-02-28T17:23:23.578549Z",
     "iopub.status.idle": "2021-02-28T17:23:23.606643Z",
     "shell.execute_reply": "2021-02-28T17:23:23.606084Z"
    },
    "papermill": {
     "duration": 0.076539,
     "end_time": "2021-02-28T17:23:23.606802",
     "exception": false,
     "start_time": "2021-02-28T17:23:23.530263",
     "status": "completed"
    },
    "tags": []
   },
   "outputs": [],
   "source": [
    "# Holding_Policy_Duration feature is ordinal but because of one value it has become categorical. So let's change it...\n",
    "df['Holding_Policy_Duration'] = df['Holding_Policy_Duration'].replace({'14+':'15'})\n",
    "\n",
    "# It has some null values so let's fill null values with -1 so keep its ordinality..\n",
    "df['Holding_Policy_Duration'].fillna(-1,inplace=True)\n",
    "\n",
    "# Convert it into float so that we need not to do any ordinal encoding...\n",
    "df['Holding_Policy_Duration'] = df['Holding_Policy_Duration'].astype(float)"
   ]
  },
  {
   "cell_type": "code",
   "execution_count": 13,
   "metadata": {
    "execution": {
     "iopub.execute_input": "2021-02-28T17:23:23.686406Z",
     "iopub.status.busy": "2021-02-28T17:23:23.685394Z",
     "iopub.status.idle": "2021-02-28T17:23:23.693374Z",
     "shell.execute_reply": "2021-02-28T17:23:23.692798Z"
    },
    "papermill": {
     "duration": 0.050047,
     "end_time": "2021-02-28T17:23:23.693514",
     "exception": false,
     "start_time": "2021-02-28T17:23:23.643467",
     "status": "completed"
    },
    "tags": []
   },
   "outputs": [
    {
     "data": {
      "text/plain": [
       "array([15., -1.,  1.,  3.,  5.,  9., 14.,  7.,  2., 11., 10.,  8.,  6.,\n",
       "        4., 13., 12.])"
      ]
     },
     "execution_count": 13,
     "metadata": {},
     "output_type": "execute_result"
    }
   ],
   "source": [
    "df['Holding_Policy_Duration'].unique()"
   ]
  },
  {
   "cell_type": "markdown",
   "metadata": {
    "papermill": {
     "duration": 0.037293,
     "end_time": "2021-02-28T17:23:23.768860",
     "exception": false,
     "start_time": "2021-02-28T17:23:23.731567",
     "status": "completed"
    },
    "tags": []
   },
   "source": [
    "Let's check if data has any other null values.."
   ]
  },
  {
   "cell_type": "code",
   "execution_count": 14,
   "metadata": {
    "execution": {
     "iopub.execute_input": "2021-02-28T17:23:23.846699Z",
     "iopub.status.busy": "2021-02-28T17:23:23.846107Z",
     "iopub.status.idle": "2021-02-28T17:23:23.893091Z",
     "shell.execute_reply": "2021-02-28T17:23:23.892543Z"
    },
    "papermill": {
     "duration": 0.087149,
     "end_time": "2021-02-28T17:23:23.893233",
     "exception": false,
     "start_time": "2021-02-28T17:23:23.806084",
     "status": "completed"
    },
    "tags": []
   },
   "outputs": [
    {
     "data": {
      "text/plain": [
       "ID                             0\n",
       "City_Code                      0\n",
       "Region_Code                    0\n",
       "Accomodation_Type              0\n",
       "Reco_Insurance_Type            0\n",
       "Upper_Age                      0\n",
       "Lower_Age                      0\n",
       "Is_Spouse                      0\n",
       "Health Indicator           16718\n",
       "Holding_Policy_Duration        0\n",
       "Holding_Policy_Type        28854\n",
       "Reco_Policy_Cat                0\n",
       "Reco_Policy_Premium            0\n",
       "Response                   21805\n",
       "train                          0\n",
       "dtype: int64"
      ]
     },
     "execution_count": 14,
     "metadata": {},
     "output_type": "execute_result"
    }
   ],
   "source": [
    "df.isnull().sum()"
   ]
  },
  {
   "cell_type": "markdown",
   "metadata": {
    "papermill": {
     "duration": 0.037392,
     "end_time": "2021-02-28T17:23:23.968760",
     "exception": false,
     "start_time": "2021-02-28T17:23:23.931368",
     "status": "completed"
    },
    "tags": []
   },
   "source": [
    "There are two features which has null values but we can not say it's missing values because these features having null values is obvious, it means we don't have we know health indicator of some customers and there are some customers who don't\n",
    "hold existing policy. Both the cases are valid business case we need not to do explicit missing value treatment. We can just fill it with some other value to let model know it's pattern(missing value has lot of info here) or we can keep it\n",
    "as null as some models can handle them very well like LGBM.."
   ]
  },
  {
   "cell_type": "markdown",
   "metadata": {
    "papermill": {
     "duration": 0.038278,
     "end_time": "2021-02-28T17:23:24.045025",
     "exception": false,
     "start_time": "2021-02-28T17:23:24.006747",
     "status": "completed"
    },
    "tags": []
   },
   "source": [
    "Let's do label encoding for categorical variables but make sure it does not create random category for null values so I will exclude null records and will keep as it is..\n",
    "\n",
    "Note - Null values should be clearly recognized by model so always fill it with some extreme values like -999. We will mainly use tree based models so there extreme values will not create any issue."
   ]
  },
  {
   "cell_type": "code",
   "execution_count": 15,
   "metadata": {
    "execution": {
     "iopub.execute_input": "2021-02-28T17:23:24.126102Z",
     "iopub.status.busy": "2021-02-28T17:23:24.125304Z",
     "iopub.status.idle": "2021-02-28T17:23:24.128584Z",
     "shell.execute_reply": "2021-02-28T17:23:24.127950Z"
    },
    "papermill": {
     "duration": 0.045984,
     "end_time": "2021-02-28T17:23:24.128721",
     "exception": false,
     "start_time": "2021-02-28T17:23:24.082737",
     "status": "completed"
    },
    "tags": []
   },
   "outputs": [],
   "source": [
    "# save the list of categorical coumns for future use..\n",
    "categorical_columns = [col for col in df.columns if df[col].dtype == 'object']"
   ]
  },
  {
   "cell_type": "code",
   "execution_count": 16,
   "metadata": {
    "execution": {
     "iopub.execute_input": "2021-02-28T17:23:24.212693Z",
     "iopub.status.busy": "2021-02-28T17:23:24.211838Z",
     "iopub.status.idle": "2021-02-28T17:23:24.214769Z",
     "shell.execute_reply": "2021-02-28T17:23:24.214282Z"
    },
    "papermill": {
     "duration": 0.048237,
     "end_time": "2021-02-28T17:23:24.214938",
     "exception": false,
     "start_time": "2021-02-28T17:23:24.166701",
     "status": "completed"
    },
    "tags": []
   },
   "outputs": [],
   "source": [
    "def label_encoder_exclude_nan(df):\n",
    "    categorical_columns = [col for col in df.columns if df[col].dtype == 'object']\n",
    "    for feat in categorical_columns:\n",
    "        le = LabelEncoder()\n",
    "        fit_by = pd.Series([i for i in df[feat].unique() if type(i) == str])\n",
    "        le.fit(fit_by)\n",
    "        ### Set transformed col leaving np.NaN as they are\n",
    "        df[feat] = df[feat].map(lambda x: le.transform([x])[0] if type(x) == str else x)\n",
    "    print('Label encoding complete.')\n",
    "    return df"
   ]
  },
  {
   "cell_type": "code",
   "execution_count": 17,
   "metadata": {
    "execution": {
     "iopub.execute_input": "2021-02-28T17:23:24.300513Z",
     "iopub.status.busy": "2021-02-28T17:23:24.299765Z",
     "iopub.status.idle": "2021-02-28T17:23:36.866113Z",
     "shell.execute_reply": "2021-02-28T17:23:36.865548Z"
    },
    "papermill": {
     "duration": 12.613251,
     "end_time": "2021-02-28T17:23:36.866257",
     "exception": false,
     "start_time": "2021-02-28T17:23:24.253006",
     "status": "completed"
    },
    "tags": []
   },
   "outputs": [
    {
     "name": "stdout",
     "output_type": "stream",
     "text": [
      "Label encoding complete.\n"
     ]
    }
   ],
   "source": [
    "df = label_encoder_exclude_nan(df)"
   ]
  },
  {
   "cell_type": "code",
   "execution_count": 18,
   "metadata": {
    "execution": {
     "iopub.execute_input": "2021-02-28T17:23:36.952225Z",
     "iopub.status.busy": "2021-02-28T17:23:36.951279Z",
     "iopub.status.idle": "2021-02-28T17:23:36.957943Z",
     "shell.execute_reply": "2021-02-28T17:23:36.957381Z"
    },
    "papermill": {
     "duration": 0.050669,
     "end_time": "2021-02-28T17:23:36.958087",
     "exception": false,
     "start_time": "2021-02-28T17:23:36.907418",
     "status": "completed"
    },
    "tags": []
   },
   "outputs": [],
   "source": [
    "# Let's normalize the Premium feature and see if it helps model to learn better. Results show it's helping the model..\n",
    "df['Reco_Policy_Premium'] = np.log1p(df['Reco_Policy_Premium'])"
   ]
  },
  {
   "cell_type": "markdown",
   "metadata": {
    "papermill": {
     "duration": 0.038625,
     "end_time": "2021-02-28T17:23:37.037222",
     "exception": false,
     "start_time": "2021-02-28T17:23:36.998597",
     "status": "completed"
    },
    "tags": []
   },
   "source": [
    "# **Let's do Feature Engineering**"
   ]
  },
  {
   "cell_type": "code",
   "execution_count": 19,
   "metadata": {
    "execution": {
     "iopub.execute_input": "2021-02-28T17:23:37.120850Z",
     "iopub.status.busy": "2021-02-28T17:23:37.119897Z",
     "iopub.status.idle": "2021-02-28T17:23:37.466437Z",
     "shell.execute_reply": "2021-02-28T17:23:37.465754Z"
    },
    "papermill": {
     "duration": 0.39069,
     "end_time": "2021-02-28T17:23:37.466580",
     "exception": false,
     "start_time": "2021-02-28T17:23:37.075890",
     "status": "completed"
    },
    "tags": []
   },
   "outputs": [],
   "source": [
    "# Let's do some binning of continuous columns..\n",
    "\n",
    "df['Upper_Age_bin'] =  pd.qcut(df['Upper_Age'], 5).astype('object').astype(str)\n",
    "df['Lower_Age_bin'] =  pd.qcut(df['Lower_Age'], 5).astype('object').astype(str)"
   ]
  },
  {
   "cell_type": "code",
   "execution_count": 20,
   "metadata": {
    "execution": {
     "iopub.execute_input": "2021-02-28T17:23:37.554255Z",
     "iopub.status.busy": "2021-02-28T17:23:37.548823Z",
     "iopub.status.idle": "2021-02-28T17:23:37.567883Z",
     "shell.execute_reply": "2021-02-28T17:23:37.568508Z"
    },
    "papermill": {
     "duration": 0.063447,
     "end_time": "2021-02-28T17:23:37.568694",
     "exception": false,
     "start_time": "2021-02-28T17:23:37.505247",
     "status": "completed"
    },
    "tags": []
   },
   "outputs": [
    {
     "data": {
      "text/html": [
       "<div>\n",
       "<style scoped>\n",
       "    .dataframe tbody tr th:only-of-type {\n",
       "        vertical-align: middle;\n",
       "    }\n",
       "\n",
       "    .dataframe tbody tr th {\n",
       "        vertical-align: top;\n",
       "    }\n",
       "\n",
       "    .dataframe thead th {\n",
       "        text-align: right;\n",
       "    }\n",
       "</style>\n",
       "<table border=\"1\" class=\"dataframe\">\n",
       "  <thead>\n",
       "    <tr style=\"text-align: right;\">\n",
       "      <th></th>\n",
       "      <th>ID</th>\n",
       "      <th>City_Code</th>\n",
       "      <th>Region_Code</th>\n",
       "      <th>Accomodation_Type</th>\n",
       "      <th>Reco_Insurance_Type</th>\n",
       "      <th>Upper_Age</th>\n",
       "      <th>Lower_Age</th>\n",
       "      <th>Is_Spouse</th>\n",
       "      <th>Health Indicator</th>\n",
       "      <th>Holding_Policy_Duration</th>\n",
       "      <th>Holding_Policy_Type</th>\n",
       "      <th>Reco_Policy_Cat</th>\n",
       "      <th>Reco_Policy_Premium</th>\n",
       "      <th>Response</th>\n",
       "      <th>train</th>\n",
       "      <th>Upper_Age_bin</th>\n",
       "      <th>Lower_Age_bin</th>\n",
       "    </tr>\n",
       "  </thead>\n",
       "  <tbody>\n",
       "    <tr>\n",
       "      <th>0</th>\n",
       "      <td>1</td>\n",
       "      <td>22</td>\n",
       "      <td>3213</td>\n",
       "      <td>1</td>\n",
       "      <td>0</td>\n",
       "      <td>36</td>\n",
       "      <td>36</td>\n",
       "      <td>0</td>\n",
       "      <td>0.0</td>\n",
       "      <td>15.0</td>\n",
       "      <td>3.0</td>\n",
       "      <td>22</td>\n",
       "      <td>9.361257</td>\n",
       "      <td>0.0</td>\n",
       "      <td>1</td>\n",
       "      <td>(26.0, 37.0]</td>\n",
       "      <td>(34.0, 47.0]</td>\n",
       "    </tr>\n",
       "    <tr>\n",
       "      <th>1</th>\n",
       "      <td>2</td>\n",
       "      <td>31</td>\n",
       "      <td>1117</td>\n",
       "      <td>0</td>\n",
       "      <td>1</td>\n",
       "      <td>75</td>\n",
       "      <td>22</td>\n",
       "      <td>0</td>\n",
       "      <td>1.0</td>\n",
       "      <td>-1.0</td>\n",
       "      <td>NaN</td>\n",
       "      <td>22</td>\n",
       "      <td>10.325843</td>\n",
       "      <td>0.0</td>\n",
       "      <td>1</td>\n",
       "      <td>(63.0, 75.0]</td>\n",
       "      <td>(15.999, 25.0]</td>\n",
       "    </tr>\n",
       "    <tr>\n",
       "      <th>2</th>\n",
       "      <td>3</td>\n",
       "      <td>31</td>\n",
       "      <td>3732</td>\n",
       "      <td>0</td>\n",
       "      <td>0</td>\n",
       "      <td>32</td>\n",
       "      <td>32</td>\n",
       "      <td>0</td>\n",
       "      <td>NaN</td>\n",
       "      <td>1.0</td>\n",
       "      <td>1.0</td>\n",
       "      <td>19</td>\n",
       "      <td>8.916104</td>\n",
       "      <td>1.0</td>\n",
       "      <td>1</td>\n",
       "      <td>(26.0, 37.0]</td>\n",
       "      <td>(25.0, 34.0]</td>\n",
       "    </tr>\n",
       "    <tr>\n",
       "      <th>3</th>\n",
       "      <td>4</td>\n",
       "      <td>16</td>\n",
       "      <td>4378</td>\n",
       "      <td>0</td>\n",
       "      <td>1</td>\n",
       "      <td>52</td>\n",
       "      <td>48</td>\n",
       "      <td>0</td>\n",
       "      <td>0.0</td>\n",
       "      <td>15.0</td>\n",
       "      <td>3.0</td>\n",
       "      <td>19</td>\n",
       "      <td>9.785886</td>\n",
       "      <td>0.0</td>\n",
       "      <td>1</td>\n",
       "      <td>(50.0, 63.0]</td>\n",
       "      <td>(47.0, 61.0]</td>\n",
       "    </tr>\n",
       "    <tr>\n",
       "      <th>4</th>\n",
       "      <td>5</td>\n",
       "      <td>34</td>\n",
       "      <td>2190</td>\n",
       "      <td>1</td>\n",
       "      <td>0</td>\n",
       "      <td>44</td>\n",
       "      <td>44</td>\n",
       "      <td>0</td>\n",
       "      <td>1.0</td>\n",
       "      <td>3.0</td>\n",
       "      <td>1.0</td>\n",
       "      <td>16</td>\n",
       "      <td>9.250042</td>\n",
       "      <td>0.0</td>\n",
       "      <td>1</td>\n",
       "      <td>(37.0, 50.0]</td>\n",
       "      <td>(34.0, 47.0]</td>\n",
       "    </tr>\n",
       "  </tbody>\n",
       "</table>\n",
       "</div>"
      ],
      "text/plain": [
       "   ID  City_Code  Region_Code  Accomodation_Type  Reco_Insurance_Type  \\\n",
       "0   1         22         3213                  1                    0   \n",
       "1   2         31         1117                  0                    1   \n",
       "2   3         31         3732                  0                    0   \n",
       "3   4         16         4378                  0                    1   \n",
       "4   5         34         2190                  1                    0   \n",
       "\n",
       "   Upper_Age  Lower_Age  Is_Spouse  Health Indicator  Holding_Policy_Duration  \\\n",
       "0         36         36          0               0.0                     15.0   \n",
       "1         75         22          0               1.0                     -1.0   \n",
       "2         32         32          0               NaN                      1.0   \n",
       "3         52         48          0               0.0                     15.0   \n",
       "4         44         44          0               1.0                      3.0   \n",
       "\n",
       "   Holding_Policy_Type  Reco_Policy_Cat  Reco_Policy_Premium  Response  train  \\\n",
       "0                  3.0               22             9.361257       0.0      1   \n",
       "1                  NaN               22            10.325843       0.0      1   \n",
       "2                  1.0               19             8.916104       1.0      1   \n",
       "3                  3.0               19             9.785886       0.0      1   \n",
       "4                  1.0               16             9.250042       0.0      1   \n",
       "\n",
       "  Upper_Age_bin   Lower_Age_bin  \n",
       "0  (26.0, 37.0]    (34.0, 47.0]  \n",
       "1  (63.0, 75.0]  (15.999, 25.0]  \n",
       "2  (26.0, 37.0]    (25.0, 34.0]  \n",
       "3  (50.0, 63.0]    (47.0, 61.0]  \n",
       "4  (37.0, 50.0]    (34.0, 47.0]  "
      ]
     },
     "execution_count": 20,
     "metadata": {},
     "output_type": "execute_result"
    }
   ],
   "source": [
    "df.head()"
   ]
  },
  {
   "cell_type": "code",
   "execution_count": 21,
   "metadata": {
    "execution": {
     "iopub.execute_input": "2021-02-28T17:23:37.658599Z",
     "iopub.status.busy": "2021-02-28T17:23:37.657578Z",
     "iopub.status.idle": "2021-02-28T17:23:42.184115Z",
     "shell.execute_reply": "2021-02-28T17:23:42.183463Z"
    },
    "papermill": {
     "duration": 4.576167,
     "end_time": "2021-02-28T17:23:42.184262",
     "exception": false,
     "start_time": "2021-02-28T17:23:37.608095",
     "status": "completed"
    },
    "tags": []
   },
   "outputs": [
    {
     "name": "stdout",
     "output_type": "stream",
     "text": [
      "Label encoding complete.\n"
     ]
    }
   ],
   "source": [
    "df = label_encoder_exclude_nan(df)"
   ]
  },
  {
   "cell_type": "code",
   "execution_count": 22,
   "metadata": {
    "execution": {
     "iopub.execute_input": "2021-02-28T17:23:42.271958Z",
     "iopub.status.busy": "2021-02-28T17:23:42.270919Z",
     "iopub.status.idle": "2021-02-28T17:23:42.320366Z",
     "shell.execute_reply": "2021-02-28T17:23:42.319701Z"
    },
    "papermill": {
     "duration": 0.096217,
     "end_time": "2021-02-28T17:23:42.320519",
     "exception": false,
     "start_time": "2021-02-28T17:23:42.224302",
     "status": "completed"
    },
    "tags": []
   },
   "outputs": [],
   "source": [
    "# Create feature using count of each value, it will help to find most popular and least popular category in each feature\n",
    "\n",
    "def encode_FE(df,col):\n",
    "    cv = df[col].value_counts()\n",
    "    nm = str(col)+'_FE'\n",
    "    df[nm] = df[col].map(cv)\n",
    "\n",
    "feats = [f for f in df.columns if f not in ['Response','train','ID']]\n",
    "for col in feats:\n",
    "    encode_FE(df,col)"
   ]
  },
  {
   "cell_type": "code",
   "execution_count": 23,
   "metadata": {
    "execution": {
     "iopub.execute_input": "2021-02-28T17:23:42.406831Z",
     "iopub.status.busy": "2021-02-28T17:23:42.406177Z",
     "iopub.status.idle": "2021-02-28T17:23:42.409985Z",
     "shell.execute_reply": "2021-02-28T17:23:42.409335Z"
    },
    "papermill": {
     "duration": 0.04964,
     "end_time": "2021-02-28T17:23:42.410126",
     "exception": false,
     "start_time": "2021-02-28T17:23:42.360486",
     "status": "completed"
    },
    "tags": []
   },
   "outputs": [],
   "source": [
    "# take age difference to help the model know for joint insurance type, how big is age difference..\n",
    "df['age_diff'] =  (df['Upper_Age'] - df['Lower_Age'])"
   ]
  },
  {
   "cell_type": "code",
   "execution_count": 24,
   "metadata": {
    "execution": {
     "iopub.execute_input": "2021-02-28T17:23:42.496527Z",
     "iopub.status.busy": "2021-02-28T17:23:42.495836Z",
     "iopub.status.idle": "2021-02-28T17:23:42.503037Z",
     "shell.execute_reply": "2021-02-28T17:23:42.502461Z"
    },
    "papermill": {
     "duration": 0.052849,
     "end_time": "2021-02-28T17:23:42.503182",
     "exception": false,
     "start_time": "2021-02-28T17:23:42.450333",
     "status": "completed"
    },
    "tags": []
   },
   "outputs": [],
   "source": [
    "# Take premium price to lower age and age diff ratio. Hypothesis is as age increases the premium price increases.\n",
    "# It will help the model to know if any customer is being charged heavily for same age. If yes, there is less chance he will buy\n",
    "df['prem_vs_lowerage'] = df['Reco_Policy_Premium']/df['Lower_Age']\n",
    "df['prem_vs_agediff'] = df['Reco_Policy_Premium']/df['age_diff']"
   ]
  },
  {
   "cell_type": "code",
   "execution_count": 25,
   "metadata": {
    "execution": {
     "iopub.execute_input": "2021-02-28T17:23:42.590698Z",
     "iopub.status.busy": "2021-02-28T17:23:42.590039Z",
     "iopub.status.idle": "2021-02-28T17:23:42.592943Z",
     "shell.execute_reply": "2021-02-28T17:23:42.592332Z"
    },
    "papermill": {
     "duration": 0.048839,
     "end_time": "2021-02-28T17:23:42.593085",
     "exception": false,
     "start_time": "2021-02-28T17:23:42.544246",
     "status": "completed"
    },
    "tags": []
   },
   "outputs": [],
   "source": [
    "# Find top 10 largest values and take it's sum.\n",
    "def top_10_sum(x):\n",
    "    return x.nlargest(10).sum()\n",
    "\n",
    "# Find bottom 10 smallest values and take it's sum.\n",
    "def bottom_10_sum(x):\n",
    "    return x.nsmallest(10).sum()\n",
    "\n",
    "# function to calculate mode..\n",
    "def calc_mode(x):\n",
    "    return pd.Series.mode(x)[0]"
   ]
  },
  {
   "cell_type": "code",
   "execution_count": 26,
   "metadata": {
    "execution": {
     "iopub.execute_input": "2021-02-28T17:23:42.688929Z",
     "iopub.status.busy": "2021-02-28T17:23:42.688195Z",
     "iopub.status.idle": "2021-02-28T17:24:10.716801Z",
     "shell.execute_reply": "2021-02-28T17:24:10.717274Z"
    },
    "papermill": {
     "duration": 28.083642,
     "end_time": "2021-02-28T17:24:10.717452",
     "exception": false,
     "start_time": "2021-02-28T17:23:42.633810",
     "status": "completed"
    },
    "tags": []
   },
   "outputs": [
    {
     "name": "stderr",
     "output_type": "stream",
     "text": [
      "  0%|          | 0/6 [00:00<?, ?it/s]\n",
      "  0%|          | 0/5 [00:00<?, ?it/s]\u001b[A\n",
      " 40%|████      | 2/5 [00:00<00:00, 18.59it/s]\u001b[A\n",
      "100%|██████████| 5/5 [00:00<00:00, 14.90it/s]\n",
      " 17%|█▋        | 1/6 [00:00<00:01,  2.95it/s]\n",
      "  0%|          | 0/7 [00:00<?, ?it/s]\u001b[A\n",
      " 29%|██▊       | 2/7 [00:00<00:00, 15.04it/s]\u001b[A\n",
      " 57%|█████▋    | 4/7 [00:00<00:00, 16.93it/s]\u001b[A\n",
      " 86%|████████▌ | 6/7 [00:14<00:03,  3.21s/it]\u001b[A\n",
      "100%|██████████| 7/7 [00:24<00:00,  3.53s/it]\n",
      " 33%|███▎      | 2/6 [00:25<00:58, 14.69s/it]\n",
      "  0%|          | 0/7 [00:00<?, ?it/s]\u001b[A\n",
      " 43%|████▎     | 3/7 [00:00<00:00, 22.35it/s]\u001b[A\n",
      "100%|██████████| 7/7 [00:02<00:00,  3.15it/s]\n",
      " 50%|█████     | 3/6 [00:27<00:26,  9.00s/it]\n",
      "  0%|          | 0/4 [00:00<?, ?it/s]\u001b[A\n",
      "100%|██████████| 4/4 [00:00<00:00, 21.16it/s]\n",
      " 67%|██████▋   | 4/6 [00:27<00:11,  5.52s/it]\n",
      "  0%|          | 0/4 [00:00<?, ?it/s]\u001b[A\n",
      " 50%|█████     | 2/4 [00:00<00:00, 15.63it/s]\u001b[A\n",
      "100%|██████████| 4/4 [00:00<00:00, 15.44it/s]\n",
      " 83%|████████▎ | 5/6 [00:27<00:03,  3.63s/it]\n",
      "  0%|          | 0/5 [00:00<?, ?it/s]\u001b[A\n",
      "100%|██████████| 5/5 [00:00<00:00, 20.06it/s]\n",
      "100%|██████████| 6/6 [00:28<00:00,  4.67s/it]\n"
     ]
    }
   ],
   "source": [
    "\"\"\"\n",
    "We will do feature engineering by creating some aggregation features for different feature combinations based on business\n",
    "understanding..\n",
    "\n",
    "Let me explain few..\n",
    "1. For each city and Policy category which is being recommended, find out what is the min,mean,max,std and skew in price.\n",
    "2. For each Region_Code and Policy category which is being recommended, find out what is the min,mean,max,std and skew \n",
    "in price. Also, what is the top 10 or bottom 10 prices sum to give the info - which region is costlier or cheaper\n",
    "for each policy. It really helped model, see the top feature list at last :)\n",
    "\n",
    "I have tried different other combinations and whichever helped the model based on accuracy on validation set is kept below..\n",
    "\"\"\"\n",
    "AGGREGATION_RECIPIES = [(['City_Code','Reco_Policy_Cat'], \n",
    "                         [\n",
    "                            ('Reco_Policy_Premium', 'min'),\n",
    "                            ('Reco_Policy_Premium', 'mean'),\n",
    "                             ('Reco_Policy_Premium', 'max'),\n",
    "                             ('Reco_Policy_Premium', 'std'),\n",
    "                             ('Reco_Policy_Premium', 'skew')\n",
    "                        ]\n",
    "                        ),\n",
    "                        (['Region_Code','Reco_Policy_Cat'], \n",
    "                         [\n",
    "                            ('Reco_Policy_Premium', 'min'),\n",
    "                            ('Reco_Policy_Premium', 'mean'),\n",
    "                             ('Reco_Policy_Premium', 'max'),\n",
    "                             ('Reco_Policy_Premium', 'std'),\n",
    "                             ('Reco_Policy_Premium', 'skew'),\n",
    "                             ('Reco_Policy_Premium', top_10_sum),\n",
    "                             ('Reco_Policy_Premium', bottom_10_sum)\n",
    "                         ]\n",
    "                        ),\n",
    "                        (['Region_Code'], \n",
    "                         [\n",
    "                            ('Reco_Policy_Cat', 'count'),\n",
    "                            ('Reco_Policy_Cat', 'min'),\n",
    "                             ('Reco_Policy_Cat', 'mean'),\n",
    "                             ('Reco_Policy_Cat', 'max'),\n",
    "                             ('Reco_Policy_Cat', 'std'),\n",
    "                             ('Reco_Policy_Cat', 'skew'),\n",
    "                             ('Reco_Policy_Cat', calc_mode)\n",
    "                         ]\n",
    "                        ),\n",
    "                     (['Accomodation_Type','Reco_Policy_Cat'], \n",
    "                         [\n",
    "                            ('Reco_Policy_Premium', 'min'),\n",
    "                            ('Reco_Policy_Premium', 'mean'),\n",
    "                             ('Reco_Policy_Premium', 'max'),\n",
    "                             ('Reco_Policy_Premium', 'std'),\n",
    "                         ]\n",
    "                        ),\n",
    "                        (['Holding_Policy_Type','Reco_Policy_Cat'], \n",
    "                         [\n",
    "                            ('Reco_Policy_Premium', 'min'),\n",
    "                            ('Reco_Policy_Premium', 'mean'),\n",
    "                             ('Reco_Policy_Premium', 'max'),\n",
    "                             ('Reco_Policy_Premium', 'std'),\n",
    "                         ]\n",
    "                        ),\n",
    "                        (['Reco_Policy_Cat'], \n",
    "                         [\n",
    "                            ('Reco_Policy_Premium', 'min'),\n",
    "                            ('Reco_Policy_Premium', 'mean'),\n",
    "                             ('Reco_Policy_Premium', 'max'),\n",
    "                             ('Reco_Policy_Premium', 'std'),\n",
    "                             ('Reco_Policy_Premium', 'skew')\n",
    "                         ]\n",
    "                        ),\n",
    "]\n",
    "\n",
    "groupby_aggregate_names = []\n",
    "for groupby_cols, specs in tqdm(AGGREGATION_RECIPIES):\n",
    "    group_object = df.groupby(groupby_cols)\n",
    "    for select, agg in tqdm(specs):\n",
    "        groupby_aggregate_name = '{}_{}_{}'.format('_'.join(groupby_cols), agg, select)\n",
    "        df = df.merge(group_object[select]\n",
    "                              .agg(agg)\n",
    "                              .reset_index()\n",
    "                              .rename(index=str,\n",
    "                                      columns={select: groupby_aggregate_name})\n",
    "                              [groupby_cols + [groupby_aggregate_name]],\n",
    "                              on=groupby_cols,\n",
    "                              how='left')\n",
    "        groupby_aggregate_names.append(groupby_aggregate_name)"
   ]
  },
  {
   "cell_type": "code",
   "execution_count": 27,
   "metadata": {
    "execution": {
     "iopub.execute_input": "2021-02-28T17:24:10.846166Z",
     "iopub.status.busy": "2021-02-28T17:24:10.845483Z",
     "iopub.status.idle": "2021-02-28T17:24:10.892987Z",
     "shell.execute_reply": "2021-02-28T17:24:10.892315Z"
    },
    "papermill": {
     "duration": 0.114676,
     "end_time": "2021-02-28T17:24:10.893132",
     "exception": false,
     "start_time": "2021-02-28T17:24:10.778456",
     "status": "completed"
    },
    "tags": []
   },
   "outputs": [],
   "source": [
    "# Fillna with some large negative value so that model identifies it easily..\n",
    "df.fillna(-999,inplace=True)\n",
    "\n",
    "# Similarly, replace inf values with some large positive values...\n",
    "df.replace({np.inf:99999,-np.inf:99999},inplace=True)"
   ]
  },
  {
   "cell_type": "code",
   "execution_count": 28,
   "metadata": {
    "execution": {
     "iopub.execute_input": "2021-02-28T17:24:11.050389Z",
     "iopub.status.busy": "2021-02-28T17:24:11.026202Z",
     "iopub.status.idle": "2021-02-28T17:24:11.075866Z",
     "shell.execute_reply": "2021-02-28T17:24:11.075264Z"
    },
    "papermill": {
     "duration": 0.121492,
     "end_time": "2021-02-28T17:24:11.076018",
     "exception": false,
     "start_time": "2021-02-28T17:24:10.954526",
     "status": "completed"
    },
    "tags": []
   },
   "outputs": [
    {
     "data": {
      "text/html": [
       "<div>\n",
       "<style scoped>\n",
       "    .dataframe tbody tr th:only-of-type {\n",
       "        vertical-align: middle;\n",
       "    }\n",
       "\n",
       "    .dataframe tbody tr th {\n",
       "        vertical-align: top;\n",
       "    }\n",
       "\n",
       "    .dataframe thead th {\n",
       "        text-align: right;\n",
       "    }\n",
       "</style>\n",
       "<table border=\"1\" class=\"dataframe\">\n",
       "  <thead>\n",
       "    <tr style=\"text-align: right;\">\n",
       "      <th></th>\n",
       "      <th>ID</th>\n",
       "      <th>City_Code</th>\n",
       "      <th>Region_Code</th>\n",
       "      <th>Accomodation_Type</th>\n",
       "      <th>Reco_Insurance_Type</th>\n",
       "      <th>Upper_Age</th>\n",
       "      <th>Lower_Age</th>\n",
       "      <th>Is_Spouse</th>\n",
       "      <th>Health Indicator</th>\n",
       "      <th>Holding_Policy_Duration</th>\n",
       "      <th>Holding_Policy_Type</th>\n",
       "      <th>Reco_Policy_Cat</th>\n",
       "      <th>Reco_Policy_Premium</th>\n",
       "      <th>Response</th>\n",
       "      <th>train</th>\n",
       "      <th>Upper_Age_bin</th>\n",
       "      <th>Lower_Age_bin</th>\n",
       "      <th>City_Code_FE</th>\n",
       "      <th>Region_Code_FE</th>\n",
       "      <th>Accomodation_Type_FE</th>\n",
       "      <th>Reco_Insurance_Type_FE</th>\n",
       "      <th>Upper_Age_FE</th>\n",
       "      <th>Lower_Age_FE</th>\n",
       "      <th>Is_Spouse_FE</th>\n",
       "      <th>Health Indicator_FE</th>\n",
       "      <th>Holding_Policy_Duration_FE</th>\n",
       "      <th>Holding_Policy_Type_FE</th>\n",
       "      <th>Reco_Policy_Cat_FE</th>\n",
       "      <th>Reco_Policy_Premium_FE</th>\n",
       "      <th>Upper_Age_bin_FE</th>\n",
       "      <th>Lower_Age_bin_FE</th>\n",
       "      <th>age_diff</th>\n",
       "      <th>prem_vs_lowerage</th>\n",
       "      <th>prem_vs_agediff</th>\n",
       "      <th>City_Code_Reco_Policy_Cat_min_Reco_Policy_Premium</th>\n",
       "      <th>City_Code_Reco_Policy_Cat_mean_Reco_Policy_Premium</th>\n",
       "      <th>City_Code_Reco_Policy_Cat_max_Reco_Policy_Premium</th>\n",
       "      <th>City_Code_Reco_Policy_Cat_std_Reco_Policy_Premium</th>\n",
       "      <th>City_Code_Reco_Policy_Cat_skew_Reco_Policy_Premium</th>\n",
       "      <th>Region_Code_Reco_Policy_Cat_min_Reco_Policy_Premium</th>\n",
       "      <th>Region_Code_Reco_Policy_Cat_mean_Reco_Policy_Premium</th>\n",
       "      <th>Region_Code_Reco_Policy_Cat_max_Reco_Policy_Premium</th>\n",
       "      <th>Region_Code_Reco_Policy_Cat_std_Reco_Policy_Premium</th>\n",
       "      <th>Region_Code_Reco_Policy_Cat_skew_Reco_Policy_Premium</th>\n",
       "      <th>Region_Code_Reco_Policy_Cat_&lt;function top_10_sum at 0x7fc99b94ba70&gt;_Reco_Policy_Premium</th>\n",
       "      <th>Region_Code_Reco_Policy_Cat_&lt;function bottom_10_sum at 0x7fc99b94b8c0&gt;_Reco_Policy_Premium</th>\n",
       "      <th>Region_Code_count_Reco_Policy_Cat</th>\n",
       "      <th>Region_Code_min_Reco_Policy_Cat</th>\n",
       "      <th>Region_Code_mean_Reco_Policy_Cat</th>\n",
       "      <th>Region_Code_max_Reco_Policy_Cat</th>\n",
       "      <th>Region_Code_std_Reco_Policy_Cat</th>\n",
       "      <th>Region_Code_skew_Reco_Policy_Cat</th>\n",
       "      <th>Region_Code_&lt;function calc_mode at 0x7fc99b94bcb0&gt;_Reco_Policy_Cat</th>\n",
       "      <th>Accomodation_Type_Reco_Policy_Cat_min_Reco_Policy_Premium</th>\n",
       "      <th>Accomodation_Type_Reco_Policy_Cat_mean_Reco_Policy_Premium</th>\n",
       "      <th>Accomodation_Type_Reco_Policy_Cat_max_Reco_Policy_Premium</th>\n",
       "      <th>Accomodation_Type_Reco_Policy_Cat_std_Reco_Policy_Premium</th>\n",
       "      <th>Holding_Policy_Type_Reco_Policy_Cat_min_Reco_Policy_Premium</th>\n",
       "      <th>Holding_Policy_Type_Reco_Policy_Cat_mean_Reco_Policy_Premium</th>\n",
       "      <th>Holding_Policy_Type_Reco_Policy_Cat_max_Reco_Policy_Premium</th>\n",
       "      <th>Holding_Policy_Type_Reco_Policy_Cat_std_Reco_Policy_Premium</th>\n",
       "      <th>Reco_Policy_Cat_min_Reco_Policy_Premium</th>\n",
       "      <th>Reco_Policy_Cat_mean_Reco_Policy_Premium</th>\n",
       "      <th>Reco_Policy_Cat_max_Reco_Policy_Premium</th>\n",
       "      <th>Reco_Policy_Cat_std_Reco_Policy_Premium</th>\n",
       "      <th>Reco_Policy_Cat_skew_Reco_Policy_Premium</th>\n",
       "    </tr>\n",
       "  </thead>\n",
       "  <tbody>\n",
       "    <tr>\n",
       "      <th>0</th>\n",
       "      <td>1</td>\n",
       "      <td>22</td>\n",
       "      <td>3213</td>\n",
       "      <td>1</td>\n",
       "      <td>0</td>\n",
       "      <td>36</td>\n",
       "      <td>36</td>\n",
       "      <td>0</td>\n",
       "      <td>0.0</td>\n",
       "      <td>15.0</td>\n",
       "      <td>3.0</td>\n",
       "      <td>22</td>\n",
       "      <td>9.361257</td>\n",
       "      <td>0.0</td>\n",
       "      <td>1</td>\n",
       "      <td>1</td>\n",
       "      <td>2</td>\n",
       "      <td>6954</td>\n",
       "      <td>10</td>\n",
       "      <td>32646</td>\n",
       "      <td>57877</td>\n",
       "      <td>1066</td>\n",
       "      <td>1066</td>\n",
       "      <td>60687</td>\n",
       "      <td>18624.0</td>\n",
       "      <td>6227</td>\n",
       "      <td>18851.0</td>\n",
       "      <td>9459</td>\n",
       "      <td>36</td>\n",
       "      <td>14430</td>\n",
       "      <td>13898</td>\n",
       "      <td>0</td>\n",
       "      <td>0.260035</td>\n",
       "      <td>99999.000000</td>\n",
       "      <td>7.905810</td>\n",
       "      <td>9.441321</td>\n",
       "      <td>10.464188</td>\n",
       "      <td>0.483515</td>\n",
       "      <td>-0.296917</td>\n",
       "      <td>9.361257</td>\n",
       "      <td>9.361257</td>\n",
       "      <td>9.361257</td>\n",
       "      <td>-999.000000</td>\n",
       "      <td>-999.000000</td>\n",
       "      <td>9.361257</td>\n",
       "      <td>9.361257</td>\n",
       "      <td>10</td>\n",
       "      <td>16</td>\n",
       "      <td>19.100000</td>\n",
       "      <td>22</td>\n",
       "      <td>2.330951</td>\n",
       "      <td>-0.215821</td>\n",
       "      <td>21</td>\n",
       "      <td>7.809947</td>\n",
       "      <td>9.241130</td>\n",
       "      <td>10.651525</td>\n",
       "      <td>0.472523</td>\n",
       "      <td>8.178919</td>\n",
       "      <td>9.575787</td>\n",
       "      <td>10.651525</td>\n",
       "      <td>0.429273</td>\n",
       "      <td>7.809947</td>\n",
       "      <td>9.472639</td>\n",
       "      <td>10.652963</td>\n",
       "      <td>0.495680</td>\n",
       "      <td>-0.333172</td>\n",
       "    </tr>\n",
       "    <tr>\n",
       "      <th>1</th>\n",
       "      <td>2</td>\n",
       "      <td>31</td>\n",
       "      <td>1117</td>\n",
       "      <td>0</td>\n",
       "      <td>1</td>\n",
       "      <td>75</td>\n",
       "      <td>22</td>\n",
       "      <td>0</td>\n",
       "      <td>1.0</td>\n",
       "      <td>-1.0</td>\n",
       "      <td>-999.0</td>\n",
       "      <td>22</td>\n",
       "      <td>10.325843</td>\n",
       "      <td>0.0</td>\n",
       "      <td>1</td>\n",
       "      <td>4</td>\n",
       "      <td>0</td>\n",
       "      <td>1963</td>\n",
       "      <td>21</td>\n",
       "      <td>40041</td>\n",
       "      <td>14810</td>\n",
       "      <td>4231</td>\n",
       "      <td>2442</td>\n",
       "      <td>60687</td>\n",
       "      <td>14848.0</td>\n",
       "      <td>28854</td>\n",
       "      <td>-999.0</td>\n",
       "      <td>9459</td>\n",
       "      <td>2</td>\n",
       "      <td>13757</td>\n",
       "      <td>15808</td>\n",
       "      <td>53</td>\n",
       "      <td>0.469356</td>\n",
       "      <td>0.194827</td>\n",
       "      <td>8.312626</td>\n",
       "      <td>9.419979</td>\n",
       "      <td>10.581506</td>\n",
       "      <td>0.508936</td>\n",
       "      <td>-0.220916</td>\n",
       "      <td>8.312626</td>\n",
       "      <td>9.625685</td>\n",
       "      <td>10.581506</td>\n",
       "      <td>0.604669</td>\n",
       "      <td>-0.748327</td>\n",
       "      <td>99.813933</td>\n",
       "      <td>93.012341</td>\n",
       "      <td>21</td>\n",
       "      <td>14</td>\n",
       "      <td>21.238095</td>\n",
       "      <td>22</td>\n",
       "      <td>1.997618</td>\n",
       "      <td>-3.107835</td>\n",
       "      <td>22</td>\n",
       "      <td>7.921898</td>\n",
       "      <td>9.651059</td>\n",
       "      <td>10.652963</td>\n",
       "      <td>0.435740</td>\n",
       "      <td>-999.000000</td>\n",
       "      <td>-999.000000</td>\n",
       "      <td>-999.000000</td>\n",
       "      <td>-999.000000</td>\n",
       "      <td>7.809947</td>\n",
       "      <td>9.472639</td>\n",
       "      <td>10.652963</td>\n",
       "      <td>0.495680</td>\n",
       "      <td>-0.333172</td>\n",
       "    </tr>\n",
       "    <tr>\n",
       "      <th>2</th>\n",
       "      <td>3</td>\n",
       "      <td>31</td>\n",
       "      <td>3732</td>\n",
       "      <td>0</td>\n",
       "      <td>0</td>\n",
       "      <td>32</td>\n",
       "      <td>32</td>\n",
       "      <td>0</td>\n",
       "      <td>-999.0</td>\n",
       "      <td>1.0</td>\n",
       "      <td>1.0</td>\n",
       "      <td>19</td>\n",
       "      <td>8.916104</td>\n",
       "      <td>1.0</td>\n",
       "      <td>1</td>\n",
       "      <td>1</td>\n",
       "      <td>1</td>\n",
       "      <td>1963</td>\n",
       "      <td>8</td>\n",
       "      <td>40041</td>\n",
       "      <td>57877</td>\n",
       "      <td>1272</td>\n",
       "      <td>1355</td>\n",
       "      <td>60687</td>\n",
       "      <td>-999.0</td>\n",
       "      <td>6390</td>\n",
       "      <td>11747.0</td>\n",
       "      <td>5319</td>\n",
       "      <td>7</td>\n",
       "      <td>14430</td>\n",
       "      <td>14144</td>\n",
       "      <td>0</td>\n",
       "      <td>0.278628</td>\n",
       "      <td>99999.000000</td>\n",
       "      <td>8.391857</td>\n",
       "      <td>9.493275</td>\n",
       "      <td>10.401106</td>\n",
       "      <td>0.430577</td>\n",
       "      <td>-0.285322</td>\n",
       "      <td>8.916104</td>\n",
       "      <td>9.015352</td>\n",
       "      <td>9.114600</td>\n",
       "      <td>0.140358</td>\n",
       "      <td>-999.000000</td>\n",
       "      <td>18.030704</td>\n",
       "      <td>18.030704</td>\n",
       "      <td>8</td>\n",
       "      <td>1</td>\n",
       "      <td>5.500000</td>\n",
       "      <td>19</td>\n",
       "      <td>8.332381</td>\n",
       "      <td>1.440165</td>\n",
       "      <td>1</td>\n",
       "      <td>7.993282</td>\n",
       "      <td>9.645024</td>\n",
       "      <td>10.670057</td>\n",
       "      <td>0.411237</td>\n",
       "      <td>8.248791</td>\n",
       "      <td>9.551039</td>\n",
       "      <td>10.670057</td>\n",
       "      <td>0.412742</td>\n",
       "      <td>7.872836</td>\n",
       "      <td>9.493225</td>\n",
       "      <td>10.670057</td>\n",
       "      <td>0.468723</td>\n",
       "      <td>-0.355766</td>\n",
       "    </tr>\n",
       "    <tr>\n",
       "      <th>3</th>\n",
       "      <td>4</td>\n",
       "      <td>16</td>\n",
       "      <td>4378</td>\n",
       "      <td>0</td>\n",
       "      <td>1</td>\n",
       "      <td>52</td>\n",
       "      <td>48</td>\n",
       "      <td>0</td>\n",
       "      <td>0.0</td>\n",
       "      <td>15.0</td>\n",
       "      <td>3.0</td>\n",
       "      <td>19</td>\n",
       "      <td>9.785886</td>\n",
       "      <td>0.0</td>\n",
       "      <td>1</td>\n",
       "      <td>3</td>\n",
       "      <td>3</td>\n",
       "      <td>823</td>\n",
       "      <td>5</td>\n",
       "      <td>40041</td>\n",
       "      <td>14810</td>\n",
       "      <td>1229</td>\n",
       "      <td>1120</td>\n",
       "      <td>60687</td>\n",
       "      <td>18624.0</td>\n",
       "      <td>6227</td>\n",
       "      <td>18851.0</td>\n",
       "      <td>5319</td>\n",
       "      <td>32</td>\n",
       "      <td>14857</td>\n",
       "      <td>15075</td>\n",
       "      <td>4</td>\n",
       "      <td>0.203873</td>\n",
       "      <td>2.446471</td>\n",
       "      <td>8.338784</td>\n",
       "      <td>9.557989</td>\n",
       "      <td>10.670057</td>\n",
       "      <td>0.457676</td>\n",
       "      <td>-0.249435</td>\n",
       "      <td>9.785886</td>\n",
       "      <td>9.785886</td>\n",
       "      <td>9.785886</td>\n",
       "      <td>-999.000000</td>\n",
       "      <td>-999.000000</td>\n",
       "      <td>9.785886</td>\n",
       "      <td>9.785886</td>\n",
       "      <td>5</td>\n",
       "      <td>1</td>\n",
       "      <td>7.800000</td>\n",
       "      <td>19</td>\n",
       "      <td>8.526429</td>\n",
       "      <td>0.721601</td>\n",
       "      <td>2</td>\n",
       "      <td>7.993282</td>\n",
       "      <td>9.645024</td>\n",
       "      <td>10.670057</td>\n",
       "      <td>0.411237</td>\n",
       "      <td>8.276649</td>\n",
       "      <td>9.637014</td>\n",
       "      <td>10.532283</td>\n",
       "      <td>0.441302</td>\n",
       "      <td>7.872836</td>\n",
       "      <td>9.493225</td>\n",
       "      <td>10.670057</td>\n",
       "      <td>0.468723</td>\n",
       "      <td>-0.355766</td>\n",
       "    </tr>\n",
       "    <tr>\n",
       "      <th>4</th>\n",
       "      <td>5</td>\n",
       "      <td>34</td>\n",
       "      <td>2190</td>\n",
       "      <td>1</td>\n",
       "      <td>0</td>\n",
       "      <td>44</td>\n",
       "      <td>44</td>\n",
       "      <td>0</td>\n",
       "      <td>1.0</td>\n",
       "      <td>3.0</td>\n",
       "      <td>1.0</td>\n",
       "      <td>16</td>\n",
       "      <td>9.250042</td>\n",
       "      <td>0.0</td>\n",
       "      <td>1</td>\n",
       "      <td>2</td>\n",
       "      <td>2</td>\n",
       "      <td>2579</td>\n",
       "      <td>14</td>\n",
       "      <td>32646</td>\n",
       "      <td>57877</td>\n",
       "      <td>1139</td>\n",
       "      <td>1051</td>\n",
       "      <td>60687</td>\n",
       "      <td>14848.0</td>\n",
       "      <td>5192</td>\n",
       "      <td>11747.0</td>\n",
       "      <td>5786</td>\n",
       "      <td>21</td>\n",
       "      <td>14659</td>\n",
       "      <td>13898</td>\n",
       "      <td>0</td>\n",
       "      <td>0.210228</td>\n",
       "      <td>99999.000000</td>\n",
       "      <td>8.273592</td>\n",
       "      <td>9.414341</td>\n",
       "      <td>10.435744</td>\n",
       "      <td>0.421687</td>\n",
       "      <td>-0.194335</td>\n",
       "      <td>9.169623</td>\n",
       "      <td>9.656979</td>\n",
       "      <td>10.040332</td>\n",
       "      <td>0.311672</td>\n",
       "      <td>-0.311081</td>\n",
       "      <td>97.057147</td>\n",
       "      <td>96.186437</td>\n",
       "      <td>14</td>\n",
       "      <td>2</td>\n",
       "      <td>15.857143</td>\n",
       "      <td>22</td>\n",
       "      <td>4.537996</td>\n",
       "      <td>-2.110015</td>\n",
       "      <td>16</td>\n",
       "      <td>7.910224</td>\n",
       "      <td>9.279859</td>\n",
       "      <td>10.542754</td>\n",
       "      <td>0.457653</td>\n",
       "      <td>8.192294</td>\n",
       "      <td>9.524823</td>\n",
       "      <td>10.509622</td>\n",
       "      <td>0.421808</td>\n",
       "      <td>7.775276</td>\n",
       "      <td>9.459710</td>\n",
       "      <td>10.584790</td>\n",
       "      <td>0.473109</td>\n",
       "      <td>-0.317979</td>\n",
       "    </tr>\n",
       "  </tbody>\n",
       "</table>\n",
       "</div>"
      ],
      "text/plain": [
       "   ID  City_Code  Region_Code  Accomodation_Type  Reco_Insurance_Type  \\\n",
       "0   1         22         3213                  1                    0   \n",
       "1   2         31         1117                  0                    1   \n",
       "2   3         31         3732                  0                    0   \n",
       "3   4         16         4378                  0                    1   \n",
       "4   5         34         2190                  1                    0   \n",
       "\n",
       "   Upper_Age  Lower_Age  Is_Spouse  Health Indicator  Holding_Policy_Duration  \\\n",
       "0         36         36          0               0.0                     15.0   \n",
       "1         75         22          0               1.0                     -1.0   \n",
       "2         32         32          0            -999.0                      1.0   \n",
       "3         52         48          0               0.0                     15.0   \n",
       "4         44         44          0               1.0                      3.0   \n",
       "\n",
       "   Holding_Policy_Type  Reco_Policy_Cat  Reco_Policy_Premium  Response  train  \\\n",
       "0                  3.0               22             9.361257       0.0      1   \n",
       "1               -999.0               22            10.325843       0.0      1   \n",
       "2                  1.0               19             8.916104       1.0      1   \n",
       "3                  3.0               19             9.785886       0.0      1   \n",
       "4                  1.0               16             9.250042       0.0      1   \n",
       "\n",
       "   Upper_Age_bin  Lower_Age_bin  City_Code_FE  Region_Code_FE  \\\n",
       "0              1              2          6954              10   \n",
       "1              4              0          1963              21   \n",
       "2              1              1          1963               8   \n",
       "3              3              3           823               5   \n",
       "4              2              2          2579              14   \n",
       "\n",
       "   Accomodation_Type_FE  Reco_Insurance_Type_FE  Upper_Age_FE  Lower_Age_FE  \\\n",
       "0                 32646                   57877          1066          1066   \n",
       "1                 40041                   14810          4231          2442   \n",
       "2                 40041                   57877          1272          1355   \n",
       "3                 40041                   14810          1229          1120   \n",
       "4                 32646                   57877          1139          1051   \n",
       "\n",
       "   Is_Spouse_FE  Health Indicator_FE  Holding_Policy_Duration_FE  \\\n",
       "0         60687              18624.0                        6227   \n",
       "1         60687              14848.0                       28854   \n",
       "2         60687               -999.0                        6390   \n",
       "3         60687              18624.0                        6227   \n",
       "4         60687              14848.0                        5192   \n",
       "\n",
       "   Holding_Policy_Type_FE  Reco_Policy_Cat_FE  Reco_Policy_Premium_FE  \\\n",
       "0                 18851.0                9459                      36   \n",
       "1                  -999.0                9459                       2   \n",
       "2                 11747.0                5319                       7   \n",
       "3                 18851.0                5319                      32   \n",
       "4                 11747.0                5786                      21   \n",
       "\n",
       "   Upper_Age_bin_FE  Lower_Age_bin_FE  age_diff  prem_vs_lowerage  \\\n",
       "0             14430             13898         0          0.260035   \n",
       "1             13757             15808        53          0.469356   \n",
       "2             14430             14144         0          0.278628   \n",
       "3             14857             15075         4          0.203873   \n",
       "4             14659             13898         0          0.210228   \n",
       "\n",
       "   prem_vs_agediff  City_Code_Reco_Policy_Cat_min_Reco_Policy_Premium  \\\n",
       "0     99999.000000                                           7.905810   \n",
       "1         0.194827                                           8.312626   \n",
       "2     99999.000000                                           8.391857   \n",
       "3         2.446471                                           8.338784   \n",
       "4     99999.000000                                           8.273592   \n",
       "\n",
       "   City_Code_Reco_Policy_Cat_mean_Reco_Policy_Premium  \\\n",
       "0                                           9.441321    \n",
       "1                                           9.419979    \n",
       "2                                           9.493275    \n",
       "3                                           9.557989    \n",
       "4                                           9.414341    \n",
       "\n",
       "   City_Code_Reco_Policy_Cat_max_Reco_Policy_Premium  \\\n",
       "0                                          10.464188   \n",
       "1                                          10.581506   \n",
       "2                                          10.401106   \n",
       "3                                          10.670057   \n",
       "4                                          10.435744   \n",
       "\n",
       "   City_Code_Reco_Policy_Cat_std_Reco_Policy_Premium  \\\n",
       "0                                           0.483515   \n",
       "1                                           0.508936   \n",
       "2                                           0.430577   \n",
       "3                                           0.457676   \n",
       "4                                           0.421687   \n",
       "\n",
       "   City_Code_Reco_Policy_Cat_skew_Reco_Policy_Premium  \\\n",
       "0                                          -0.296917    \n",
       "1                                          -0.220916    \n",
       "2                                          -0.285322    \n",
       "3                                          -0.249435    \n",
       "4                                          -0.194335    \n",
       "\n",
       "   Region_Code_Reco_Policy_Cat_min_Reco_Policy_Premium  \\\n",
       "0                                           9.361257     \n",
       "1                                           8.312626     \n",
       "2                                           8.916104     \n",
       "3                                           9.785886     \n",
       "4                                           9.169623     \n",
       "\n",
       "   Region_Code_Reco_Policy_Cat_mean_Reco_Policy_Premium  \\\n",
       "0                                           9.361257      \n",
       "1                                           9.625685      \n",
       "2                                           9.015352      \n",
       "3                                           9.785886      \n",
       "4                                           9.656979      \n",
       "\n",
       "   Region_Code_Reco_Policy_Cat_max_Reco_Policy_Premium  \\\n",
       "0                                           9.361257     \n",
       "1                                          10.581506     \n",
       "2                                           9.114600     \n",
       "3                                           9.785886     \n",
       "4                                          10.040332     \n",
       "\n",
       "   Region_Code_Reco_Policy_Cat_std_Reco_Policy_Premium  \\\n",
       "0                                        -999.000000     \n",
       "1                                           0.604669     \n",
       "2                                           0.140358     \n",
       "3                                        -999.000000     \n",
       "4                                           0.311672     \n",
       "\n",
       "   Region_Code_Reco_Policy_Cat_skew_Reco_Policy_Premium  \\\n",
       "0                                        -999.000000      \n",
       "1                                          -0.748327      \n",
       "2                                        -999.000000      \n",
       "3                                        -999.000000      \n",
       "4                                          -0.311081      \n",
       "\n",
       "   Region_Code_Reco_Policy_Cat_<function top_10_sum at 0x7fc99b94ba70>_Reco_Policy_Premium  \\\n",
       "0                                           9.361257                                         \n",
       "1                                          99.813933                                         \n",
       "2                                          18.030704                                         \n",
       "3                                           9.785886                                         \n",
       "4                                          97.057147                                         \n",
       "\n",
       "   Region_Code_Reco_Policy_Cat_<function bottom_10_sum at 0x7fc99b94b8c0>_Reco_Policy_Premium  \\\n",
       "0                                           9.361257                                            \n",
       "1                                          93.012341                                            \n",
       "2                                          18.030704                                            \n",
       "3                                           9.785886                                            \n",
       "4                                          96.186437                                            \n",
       "\n",
       "   Region_Code_count_Reco_Policy_Cat  Region_Code_min_Reco_Policy_Cat  \\\n",
       "0                                 10                               16   \n",
       "1                                 21                               14   \n",
       "2                                  8                                1   \n",
       "3                                  5                                1   \n",
       "4                                 14                                2   \n",
       "\n",
       "   Region_Code_mean_Reco_Policy_Cat  Region_Code_max_Reco_Policy_Cat  \\\n",
       "0                         19.100000                               22   \n",
       "1                         21.238095                               22   \n",
       "2                          5.500000                               19   \n",
       "3                          7.800000                               19   \n",
       "4                         15.857143                               22   \n",
       "\n",
       "   Region_Code_std_Reco_Policy_Cat  Region_Code_skew_Reco_Policy_Cat  \\\n",
       "0                         2.330951                         -0.215821   \n",
       "1                         1.997618                         -3.107835   \n",
       "2                         8.332381                          1.440165   \n",
       "3                         8.526429                          0.721601   \n",
       "4                         4.537996                         -2.110015   \n",
       "\n",
       "   Region_Code_<function calc_mode at 0x7fc99b94bcb0>_Reco_Policy_Cat  \\\n",
       "0                                                 21                    \n",
       "1                                                 22                    \n",
       "2                                                  1                    \n",
       "3                                                  2                    \n",
       "4                                                 16                    \n",
       "\n",
       "   Accomodation_Type_Reco_Policy_Cat_min_Reco_Policy_Premium  \\\n",
       "0                                           7.809947           \n",
       "1                                           7.921898           \n",
       "2                                           7.993282           \n",
       "3                                           7.993282           \n",
       "4                                           7.910224           \n",
       "\n",
       "   Accomodation_Type_Reco_Policy_Cat_mean_Reco_Policy_Premium  \\\n",
       "0                                           9.241130            \n",
       "1                                           9.651059            \n",
       "2                                           9.645024            \n",
       "3                                           9.645024            \n",
       "4                                           9.279859            \n",
       "\n",
       "   Accomodation_Type_Reco_Policy_Cat_max_Reco_Policy_Premium  \\\n",
       "0                                          10.651525           \n",
       "1                                          10.652963           \n",
       "2                                          10.670057           \n",
       "3                                          10.670057           \n",
       "4                                          10.542754           \n",
       "\n",
       "   Accomodation_Type_Reco_Policy_Cat_std_Reco_Policy_Premium  \\\n",
       "0                                           0.472523           \n",
       "1                                           0.435740           \n",
       "2                                           0.411237           \n",
       "3                                           0.411237           \n",
       "4                                           0.457653           \n",
       "\n",
       "   Holding_Policy_Type_Reco_Policy_Cat_min_Reco_Policy_Premium  \\\n",
       "0                                           8.178919             \n",
       "1                                        -999.000000             \n",
       "2                                           8.248791             \n",
       "3                                           8.276649             \n",
       "4                                           8.192294             \n",
       "\n",
       "   Holding_Policy_Type_Reco_Policy_Cat_mean_Reco_Policy_Premium  \\\n",
       "0                                           9.575787              \n",
       "1                                        -999.000000              \n",
       "2                                           9.551039              \n",
       "3                                           9.637014              \n",
       "4                                           9.524823              \n",
       "\n",
       "   Holding_Policy_Type_Reco_Policy_Cat_max_Reco_Policy_Premium  \\\n",
       "0                                          10.651525             \n",
       "1                                        -999.000000             \n",
       "2                                          10.670057             \n",
       "3                                          10.532283             \n",
       "4                                          10.509622             \n",
       "\n",
       "   Holding_Policy_Type_Reco_Policy_Cat_std_Reco_Policy_Premium  \\\n",
       "0                                           0.429273             \n",
       "1                                        -999.000000             \n",
       "2                                           0.412742             \n",
       "3                                           0.441302             \n",
       "4                                           0.421808             \n",
       "\n",
       "   Reco_Policy_Cat_min_Reco_Policy_Premium  \\\n",
       "0                                 7.809947   \n",
       "1                                 7.809947   \n",
       "2                                 7.872836   \n",
       "3                                 7.872836   \n",
       "4                                 7.775276   \n",
       "\n",
       "   Reco_Policy_Cat_mean_Reco_Policy_Premium  \\\n",
       "0                                  9.472639   \n",
       "1                                  9.472639   \n",
       "2                                  9.493225   \n",
       "3                                  9.493225   \n",
       "4                                  9.459710   \n",
       "\n",
       "   Reco_Policy_Cat_max_Reco_Policy_Premium  \\\n",
       "0                                10.652963   \n",
       "1                                10.652963   \n",
       "2                                10.670057   \n",
       "3                                10.670057   \n",
       "4                                10.584790   \n",
       "\n",
       "   Reco_Policy_Cat_std_Reco_Policy_Premium  \\\n",
       "0                                 0.495680   \n",
       "1                                 0.495680   \n",
       "2                                 0.468723   \n",
       "3                                 0.468723   \n",
       "4                                 0.473109   \n",
       "\n",
       "   Reco_Policy_Cat_skew_Reco_Policy_Premium  \n",
       "0                                 -0.333172  \n",
       "1                                 -0.333172  \n",
       "2                                 -0.355766  \n",
       "3                                 -0.355766  \n",
       "4                                 -0.317979  "
      ]
     },
     "execution_count": 28,
     "metadata": {},
     "output_type": "execute_result"
    }
   ],
   "source": [
    "df.head()"
   ]
  },
  {
   "cell_type": "code",
   "execution_count": 29,
   "metadata": {
    "execution": {
     "iopub.execute_input": "2021-02-28T17:24:11.207188Z",
     "iopub.status.busy": "2021-02-28T17:24:11.206441Z",
     "iopub.status.idle": "2021-02-28T17:24:11.211401Z",
     "shell.execute_reply": "2021-02-28T17:24:11.210741Z"
    },
    "papermill": {
     "duration": 0.072175,
     "end_time": "2021-02-28T17:24:11.211542",
     "exception": false,
     "start_time": "2021-02-28T17:24:11.139367",
     "status": "completed"
    },
    "tags": []
   },
   "outputs": [
    {
     "data": {
      "text/plain": [
       "['City_Code',\n",
       " 'Accomodation_Type',\n",
       " 'Reco_Insurance_Type',\n",
       " 'Is_Spouse',\n",
       " 'Health Indicator']"
      ]
     },
     "execution_count": 29,
     "metadata": {},
     "output_type": "execute_result"
    }
   ],
   "source": [
    "categorical_columns"
   ]
  },
  {
   "cell_type": "code",
   "execution_count": 30,
   "metadata": {
    "execution": {
     "iopub.execute_input": "2021-02-28T17:24:11.343300Z",
     "iopub.status.busy": "2021-02-28T17:24:11.342624Z",
     "iopub.status.idle": "2021-02-28T17:24:11.347584Z",
     "shell.execute_reply": "2021-02-28T17:24:11.346945Z"
    },
    "papermill": {
     "duration": 0.073036,
     "end_time": "2021-02-28T17:24:11.347726",
     "exception": false,
     "start_time": "2021-02-28T17:24:11.274690",
     "status": "completed"
    },
    "tags": []
   },
   "outputs": [
    {
     "data": {
      "text/plain": [
       "(72687, 66)"
      ]
     },
     "execution_count": 30,
     "metadata": {},
     "output_type": "execute_result"
    }
   ],
   "source": [
    "df.shape"
   ]
  },
  {
   "cell_type": "code",
   "execution_count": 31,
   "metadata": {
    "execution": {
     "iopub.execute_input": "2021-02-28T17:24:11.480860Z",
     "iopub.status.busy": "2021-02-28T17:24:11.480178Z",
     "iopub.status.idle": "2021-02-28T17:24:11.483365Z",
     "shell.execute_reply": "2021-02-28T17:24:11.482837Z"
    },
    "papermill": {
     "duration": 0.071837,
     "end_time": "2021-02-28T17:24:11.483507",
     "exception": false,
     "start_time": "2021-02-28T17:24:11.411670",
     "status": "completed"
    },
    "tags": []
   },
   "outputs": [],
   "source": [
    "# list of features which model will treat as categorical...\n",
    "cat_features = ['City_Code','Reco_Policy_Cat','Lower_Age_bin','Upper_Age_bin']"
   ]
  },
  {
   "cell_type": "code",
   "execution_count": 32,
   "metadata": {
    "execution": {
     "iopub.execute_input": "2021-02-28T17:24:11.630248Z",
     "iopub.status.busy": "2021-02-28T17:24:11.629535Z",
     "iopub.status.idle": "2021-02-28T17:24:11.633064Z",
     "shell.execute_reply": "2021-02-28T17:24:11.632439Z"
    },
    "papermill": {
     "duration": 0.085498,
     "end_time": "2021-02-28T17:24:11.633206",
     "exception": false,
     "start_time": "2021-02-28T17:24:11.547708",
     "status": "completed"
    },
    "tags": []
   },
   "outputs": [],
   "source": [
    "\"\"\"\n",
    "function to train LGBM model with stratified Kfold.\n",
    "\n",
    "Finally, I have used LightGBM model for training the data. I have used stratified Kfold(10) as cross validation technique.\n",
    "\n",
    "While training the model, I have excluded below features –\n",
    "•ID - as told in competition rule.\n",
    "•Region_Code - as the values in test are different from train. I have done FE using it, so I have all info from this feature that is needed by model.\n",
    "•Upper_Age - as I have already included age_diff feature so it will be redundant info.\n",
    "\n",
    "I have also done parameter tuning for model and finally used parameters which worked well with early stopping so that model\n",
    "does not overfit. Also, for feature selection, I have used reg_alpha parameter and to handle overfitting, used reg_lambda,\n",
    "colsample_bytree, subsample parameters.\n",
    "\n",
    "\"\"\"\n",
    "\n",
    "def train_lgbm(df,seed,cat_features):\n",
    "    X = df[df['train']==1]\n",
    "    y = df[df['train']==1]['Response']\n",
    "    test_data = df[df['train']==0]\n",
    "    num_split = 10\n",
    "    folds = StratifiedKFold(n_splits=num_split)\n",
    "    excluded_features = ['Response','train','ID','Region_Code','Upper_Age']\n",
    "    train_features = [_f for _f in X.columns if _f not in excluded_features]\n",
    "    importances = pd.DataFrame()\n",
    "    oof_reg_preds = np.zeros(X.shape[0])\n",
    "    test_preds = np.zeros(test_data.shape[0])\n",
    "    for fold_, (trn_, val_) in enumerate(folds.split(X, y)):\n",
    "        print(\"Fold:\",fold_)\n",
    "        trn_x, trn_y = X[train_features].iloc[trn_], y.iloc[trn_]\n",
    "        val_x, val_y = X[train_features].iloc[val_], y.iloc[val_]\n",
    "        clf1 = LGBMClassifier(\n",
    "            n_jobs=-1,\n",
    "            learning_rate=0.0094,\n",
    "            n_estimators=10000,\n",
    "            colsample_bytree=0.94,\n",
    "            subsample = 0.75,\n",
    "            subsample_freq = 1,\n",
    "            reg_alpha= 1.0,\n",
    "            reg_lambda = 5.0,\n",
    "            random_state=seed\n",
    "        )\n",
    "        clf1.fit(\n",
    "            trn_x,trn_y ,\n",
    "            eval_set=[(val_x, val_y)],\n",
    "            early_stopping_rounds=100,\n",
    "            verbose=False,\n",
    "            eval_metric='auc',\n",
    "            categorical_feature = cat_features\n",
    "        )\n",
    "        \n",
    "        # Extra boosting.\n",
    "        clf = LGBMClassifier(\n",
    "            n_jobs=-1,\n",
    "            learning_rate=0.00094,\n",
    "            n_estimators=10000,\n",
    "            colsample_bytree=0.94,\n",
    "            subsample = 0.75,\n",
    "            subsample_freq = 1,\n",
    "            reg_alpha= 1.0,\n",
    "            reg_lambda = 5.0,\n",
    "            random_state=seed\n",
    "        )\n",
    "        clf.fit(\n",
    "            trn_x,trn_y ,\n",
    "            eval_set=[(val_x, val_y)],\n",
    "            early_stopping_rounds=300,\n",
    "            verbose=False,\n",
    "            eval_metric='auc',\n",
    "            categorical_feature = cat_features,\n",
    "            init_model = clf1\n",
    "        )\n",
    "        \n",
    "        imp_df = pd.DataFrame()\n",
    "        imp_df['feature'] = train_features\n",
    "        imp_df['importance'] = clf.booster_.feature_importance(importance_type='gain')\n",
    "\n",
    "        imp_df['fold'] = fold_ + 1\n",
    "        importances = pd.concat([importances, imp_df], axis=0, sort=False)\n",
    "\n",
    "        oof_reg_preds[val_] = clf.predict_proba(val_x, num_iteration=clf.best_iteration_)[:, 1]\n",
    "        _preds = clf.predict_proba(test_data[train_features], num_iteration=clf.best_iteration_)[:, 1]\n",
    "        test_preds += _preds\n",
    "        print(\"fold\"+str(fold_)+\" auc\",roc_auc_score(val_y, oof_reg_preds[val_]))\n",
    "        del  trn_x, trn_y, val_x, val_y,trn_, val_\n",
    "        gc.collect()\n",
    "\n",
    "    test_preds = test_preds/num_split\n",
    "    print(roc_auc_score(y, oof_reg_preds))\n",
    "    \n",
    "    return test_preds,importances,oof_reg_preds,clf,train_features"
   ]
  },
  {
   "cell_type": "code",
   "execution_count": 33,
   "metadata": {
    "execution": {
     "iopub.execute_input": "2021-02-28T17:24:11.768390Z",
     "iopub.status.busy": "2021-02-28T17:24:11.767252Z",
     "iopub.status.idle": "2021-02-28T17:30:12.030662Z",
     "shell.execute_reply": "2021-02-28T17:30:12.031182Z"
    },
    "papermill": {
     "duration": 360.334181,
     "end_time": "2021-02-28T17:30:12.031371",
     "exception": false,
     "start_time": "2021-02-28T17:24:11.697190",
     "status": "completed"
    },
    "tags": []
   },
   "outputs": [
    {
     "name": "stdout",
     "output_type": "stream",
     "text": [
      "Fold: 0\n",
      "fold0 auc 0.8144198772430417\n",
      "Fold: 1\n",
      "fold1 auc 0.8092625858913347\n",
      "Fold: 2\n",
      "fold2 auc 0.8129570922406633\n",
      "Fold: 3\n",
      "fold3 auc 0.8215116167016865\n",
      "Fold: 4\n",
      "fold4 auc 0.8124261506728534\n",
      "Fold: 5\n",
      "fold5 auc 0.8153410480796053\n",
      "Fold: 6\n",
      "fold6 auc 0.82224505343202\n",
      "Fold: 7\n",
      "fold7 auc 0.8143456242758027\n",
      "Fold: 8\n",
      "fold8 auc 0.8175142488563746\n",
      "Fold: 9\n",
      "fold9 auc 0.8075794957098293\n",
      "0.8147395378583516\n"
     ]
    }
   ],
   "source": [
    "# train the model by passing data, random seed as 42 and categorical feature list...\n",
    "lgbm_preds,feat_imp_lgbm,oof_lgbm,lgbm_model,feats = train_lgbm(df,42,cat_features)"
   ]
  },
  {
   "cell_type": "code",
   "execution_count": 34,
   "metadata": {
    "execution": {
     "iopub.execute_input": "2021-02-28T17:30:12.170455Z",
     "iopub.status.busy": "2021-02-28T17:30:12.169482Z",
     "iopub.status.idle": "2021-02-28T17:38:42.254318Z",
     "shell.execute_reply": "2021-02-28T17:38:42.254870Z"
    },
    "papermill": {
     "duration": 510.156793,
     "end_time": "2021-02-28T17:38:42.255059",
     "exception": false,
     "start_time": "2021-02-28T17:30:12.098266",
     "status": "completed"
    },
    "tags": []
   },
   "outputs": [
    {
     "name": "stdout",
     "output_type": "stream",
     "text": [
      "Fold: 0\n",
      "fold0 auc 0.814438933621974\n",
      "Fold: 1\n",
      "fold1 auc 0.8090154881778459\n",
      "Fold: 2\n",
      "fold2 auc 0.8138517809008764\n",
      "Fold: 3\n",
      "fold3 auc 0.8205551626808415\n",
      "Fold: 4\n",
      "fold4 auc 0.8117727714314216\n",
      "Fold: 5\n",
      "fold5 auc 0.8165539825741532\n",
      "Fold: 6\n",
      "fold6 auc 0.8224769659990763\n",
      "Fold: 7\n",
      "fold7 auc 0.8139775292606946\n",
      "Fold: 8\n",
      "fold8 auc 0.8175017531107523\n",
      "Fold: 9\n",
      "fold9 auc 0.8070627225010467\n",
      "0.814660848207216\n"
     ]
    }
   ],
   "source": [
    "# train the model by passing data, random seed as 11 and categorical feature list...\n",
    "lgbm_preds1,feat_imp_lgbm1,oof_lgbm1,lgbm_model1,feats = train_lgbm(df,11,cat_features)"
   ]
  },
  {
   "cell_type": "code",
   "execution_count": 35,
   "metadata": {
    "execution": {
     "iopub.execute_input": "2021-02-28T17:38:42.401535Z",
     "iopub.status.busy": "2021-02-28T17:38:42.400580Z",
     "iopub.status.idle": "2021-02-28T17:38:42.407372Z",
     "shell.execute_reply": "2021-02-28T17:38:42.407838Z"
    },
    "papermill": {
     "duration": 0.081092,
     "end_time": "2021-02-28T17:38:42.408018",
     "exception": false,
     "start_time": "2021-02-28T17:38:42.326926",
     "status": "completed"
    },
    "tags": []
   },
   "outputs": [],
   "source": [
    "# Function to display feature importance...\n",
    "def display_importances(feature_importance_df_,model):\n",
    "    cols = feature_importance_df_[[\"feature\", \"importance\"]].groupby(\"feature\").mean().sort_values(by=\"importance\", ascending=False)[:30].index\n",
    "    best_features = feature_importance_df_.loc[feature_importance_df_.feature.isin(cols)]\n",
    "    plt.figure(figsize=(12, 8))\n",
    "    sns.barplot(x=\"importance\", y=\"feature\", data=best_features.sort_values(by=\"importance\", ascending=False))\n",
    "    plt.title(model+\" Features (avg over folds)\")\n",
    "    plt.tight_layout()\n",
    "    plt.savefig(model +\"_importances-01.png\")"
   ]
  },
  {
   "cell_type": "code",
   "execution_count": 36,
   "metadata": {
    "execution": {
     "iopub.execute_input": "2021-02-28T17:38:42.553802Z",
     "iopub.status.busy": "2021-02-28T17:38:42.552798Z",
     "iopub.status.idle": "2021-02-28T17:38:44.178883Z",
     "shell.execute_reply": "2021-02-28T17:38:44.178165Z"
    },
    "papermill": {
     "duration": 1.700065,
     "end_time": "2021-02-28T17:38:44.179027",
     "exception": false,
     "start_time": "2021-02-28T17:38:42.478962",
     "status": "completed"
    },
    "tags": []
   },
   "outputs": [
    {
     "data": {
      "image/png": "[encoded data removed]",
      "text/plain": [
       "<Figure size 864x576 with 1 Axes>"
      ]
     },
     "metadata": {
      "needs_background": "light"
     },
     "output_type": "display_data"
    }
   ],
   "source": [
    "# Feature importance based on gain...\n",
    "\n",
    "display_importances(feat_imp_lgbm,\"LGBM\")"
   ]
  },
  {
   "cell_type": "code",
   "execution_count": 37,
   "metadata": {
    "execution": {
     "iopub.execute_input": "2021-02-28T17:38:44.334582Z",
     "iopub.status.busy": "2021-02-28T17:38:44.333916Z",
     "iopub.status.idle": "2021-02-28T17:38:44.370657Z",
     "shell.execute_reply": "2021-02-28T17:38:44.369999Z"
    },
    "papermill": {
     "duration": 0.117372,
     "end_time": "2021-02-28T17:38:44.370818",
     "exception": false,
     "start_time": "2021-02-28T17:38:44.253446",
     "status": "completed"
    },
    "tags": []
   },
   "outputs": [
    {
     "data": {
      "text/plain": [
       "0.8148332542380982"
      ]
     },
     "execution_count": 37,
     "metadata": {},
     "output_type": "execute_result"
    }
   ],
   "source": [
    "# check which ensemble combination gives high score\n",
    "oof_ensemble = oof_lgbm*0.55 + oof_lgbm1*0.45\n",
    "roc_auc_score(df[df['train']==1]['Response'],oof_ensemble)"
   ]
  },
  {
   "cell_type": "code",
   "execution_count": 38,
   "metadata": {
    "execution": {
     "iopub.execute_input": "2021-02-28T17:38:44.525395Z",
     "iopub.status.busy": "2021-02-28T17:38:44.524575Z",
     "iopub.status.idle": "2021-02-28T17:38:44.528298Z",
     "shell.execute_reply": "2021-02-28T17:38:44.527760Z"
    },
    "papermill": {
     "duration": 0.083026,
     "end_time": "2021-02-28T17:38:44.528447",
     "exception": false,
     "start_time": "2021-02-28T17:38:44.445421",
     "status": "completed"
    },
    "tags": []
   },
   "outputs": [],
   "source": [
    "# doing ensemble for final predictions\n",
    "final_preds = lgbm_preds*0.55 + lgbm_preds1*0.45"
   ]
  },
  {
   "cell_type": "code",
   "execution_count": 39,
   "metadata": {
    "execution": {
     "iopub.execute_input": "2021-02-28T17:38:44.683662Z",
     "iopub.status.busy": "2021-02-28T17:38:44.682521Z",
     "iopub.status.idle": "2021-02-28T17:38:44.695752Z",
     "shell.execute_reply": "2021-02-28T17:38:44.695102Z"
    },
    "papermill": {
     "duration": 0.092967,
     "end_time": "2021-02-28T17:38:44.695908",
     "exception": false,
     "start_time": "2021-02-28T17:38:44.602941",
     "status": "completed"
    },
    "tags": []
   },
   "outputs": [],
   "source": [
    "# Final submission for test data...\n",
    "\n",
    "submission_df = pd.DataFrame()\n",
    "submission_df['ID'] = df[df['train']==0]['ID']\n",
    "submission_df['Response'] = final_preds"
   ]
  },
  {
   "cell_type": "code",
   "execution_count": 40,
   "metadata": {
    "execution": {
     "iopub.execute_input": "2021-02-28T17:38:44.854070Z",
     "iopub.status.busy": "2021-02-28T17:38:44.853298Z",
     "iopub.status.idle": "2021-02-28T17:38:44.857000Z",
     "shell.execute_reply": "2021-02-28T17:38:44.856383Z"
    },
    "papermill": {
     "duration": 0.086384,
     "end_time": "2021-02-28T17:38:44.857137",
     "exception": false,
     "start_time": "2021-02-28T17:38:44.770753",
     "status": "completed"
    },
    "tags": []
   },
   "outputs": [
    {
     "data": {
      "text/html": [
       "<div>\n",
       "<style scoped>\n",
       "    .dataframe tbody tr th:only-of-type {\n",
       "        vertical-align: middle;\n",
       "    }\n",
       "\n",
       "    .dataframe tbody tr th {\n",
       "        vertical-align: top;\n",
       "    }\n",
       "\n",
       "    .dataframe thead th {\n",
       "        text-align: right;\n",
       "    }\n",
       "</style>\n",
       "<table border=\"1\" class=\"dataframe\">\n",
       "  <thead>\n",
       "    <tr style=\"text-align: right;\">\n",
       "      <th></th>\n",
       "      <th>ID</th>\n",
       "      <th>Response</th>\n",
       "    </tr>\n",
       "  </thead>\n",
       "  <tbody>\n",
       "    <tr>\n",
       "      <th>50882</th>\n",
       "      <td>50883</td>\n",
       "      <td>0.077193</td>\n",
       "    </tr>\n",
       "    <tr>\n",
       "      <th>50883</th>\n",
       "      <td>50884</td>\n",
       "      <td>0.088754</td>\n",
       "    </tr>\n",
       "    <tr>\n",
       "      <th>50884</th>\n",
       "      <td>50885</td>\n",
       "      <td>0.437538</td>\n",
       "    </tr>\n",
       "    <tr>\n",
       "      <th>50885</th>\n",
       "      <td>50886</td>\n",
       "      <td>0.097391</td>\n",
       "    </tr>\n",
       "    <tr>\n",
       "      <th>50886</th>\n",
       "      <td>50887</td>\n",
       "      <td>0.028776</td>\n",
       "    </tr>\n",
       "  </tbody>\n",
       "</table>\n",
       "</div>"
      ],
      "text/plain": [
       "          ID  Response\n",
       "50882  50883  0.077193\n",
       "50883  50884  0.088754\n",
       "50884  50885  0.437538\n",
       "50885  50886  0.097391\n",
       "50886  50887  0.028776"
      ]
     },
     "execution_count": 40,
     "metadata": {},
     "output_type": "execute_result"
    }
   ],
   "source": [
    "submission_df.head()"
   ]
  },
  {
   "cell_type": "code",
   "execution_count": 41,
   "metadata": {
    "execution": {
     "iopub.execute_input": "2021-02-28T17:38:45.017952Z",
     "iopub.status.busy": "2021-02-28T17:38:45.017192Z",
     "iopub.status.idle": "2021-02-28T17:38:45.126008Z",
     "shell.execute_reply": "2021-02-28T17:38:45.126971Z"
    },
    "papermill": {
     "duration": 0.193769,
     "end_time": "2021-02-28T17:38:45.127252",
     "exception": false,
     "start_time": "2021-02-28T17:38:44.933483",
     "status": "completed"
    },
    "tags": []
   },
   "outputs": [],
   "source": [
    "submission_df.to_csv('submission.csv',index=False)"
   ]
  }
 ],
 "metadata": {
  "kernelspec": {
   "display_name": "Python 3",
   "language": "python",
   "name": "python3"
  },
  "language_info": {
   "codemirror_mode": {
    "name": "ipython",
    "version": 3
   },
   "file_extension": ".py",
   "mimetype": "text/x-python",
   "name": "python",
   "nbconvert_exporter": "python",
   "pygments_lexer": "ipython3",
   "version": "3.7.9"
  },
  "papermill": {
   "default_parameters": {},
   "duration": 934.897698,
   "end_time": "2021-02-28T17:38:46.024429",
   "environment_variables": {},
   "exception": null,
   "input_path": "__notebook__.ipynb",
   "output_path": "__notebook__.ipynb",
   "parameters": {},
   "start_time": "2021-02-28T17:23:11.126731",
   "version": "2.2.2"
  }
 },
 "nbformat": 4,
 "nbformat_minor": 4
}
